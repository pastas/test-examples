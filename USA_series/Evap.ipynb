{
 "cells": [
  {
   "cell_type": "code",
   "execution_count": 1,
   "id": "33195af1-d1bf-4c27-846c-81f1a587e5fc",
   "metadata": {},
   "outputs": [],
   "source": [
    "import numpy       as np\n",
    "import matplotlib as mpl\n",
    "import matplotlib.pyplot as plt\n",
    "import pandas as pd\n",
    "\n",
    "import pyet\n",
    "import os\n",
    "# import warnings\n",
    "# from scipy.stats import linregress\n",
    "# warnings.simplefilter(\"ignore\")\n",
    "# plt.rcParams[\"figure.autolayout\"] = True\n",
    "# plt.rcParams['axes.grid'] = True"
   ]
  },
  {
   "cell_type": "markdown",
   "id": "09ff7303-6429-4f82-a65a-bdf73ecbe86c",
   "metadata": {},
   "source": [
    "### East Brookfield"
   ]
  },
  {
   "cell_type": "code",
   "execution_count": 3,
   "id": "d00a2652-c965-42a8-90b9-a6da2eead6ba",
   "metadata": {
    "tags": []
   },
   "outputs": [],
   "source": [
    "PRCP = pd.read_csv(\"Data/3856321.csv\", delimiter=',', index_col=0, usecols=[1,2])*25.4  #inches to mm\n",
    "pd.to_datetime(PRCP.index)\n",
    "\n",
    "TEMP_avg = pd.read_csv(\"Data/3856321.csv\", delimiter=',', index_col=0, usecols=[1,3])\n",
    "pd.to_datetime(TEMP_avg.index)\n",
    "TEMP_avg['TAVG'] = (TEMP_avg.values - 32)/1.8 #fahrenheit to Celcius\n",
    "\n",
    "TEMP_max = pd.read_csv(\"Data/3856321.csv\", delimiter=',', index_col=0, usecols=[1,4])\n",
    "pd.to_datetime(TEMP_max.index)\n",
    "TEMP_max['TMAX'] = (TEMP_max.values - 32)/1.8 #fahrenheit to celsius\n",
    "\n",
    "TEMP_min = pd.read_csv(\"Data/3856321.csv\", delimiter=',', index_col=0, usecols=[1,5])\n",
    "pd.to_datetime(TEMP_min.index)\n",
    "TEMP_min['TMIN'] = (TEMP_min.values - 32)/1.8 #fahrenheit to celsius\n",
    "\n",
    "LAT = 42.1103 * np.pi / 180 # Latitude [rad]\n",
    "ELE = 700 * 0.3048 # feet to meters"
   ]
  },
  {
   "cell_type": "code",
   "execution_count": 14,
   "id": "f0130f13-4e47-4cee-bb5b-f1761e4a2202",
   "metadata": {
    "tags": []
   },
   "outputs": [
    {
     "name": "stdout",
     "output_type": "stream",
     "text": [
      "Missing Dates:\n",
      "DatetimeIndex(['2002-05-01', '2008-04-01', '2008-05-01', '2008-06-01',\n",
      "               '2008-07-01', '2008-08-01', '2008-09-01', '2008-10-01',\n",
      "               '2008-11-01', '2008-12-01', '2009-01-01', '2009-02-01',\n",
      "               '2009-03-01', '2009-04-01', '2009-05-01', '2009-06-01',\n",
      "               '2009-07-01', '2009-08-01', '2009-09-01', '2009-10-01',\n",
      "               '2009-11-01', '2009-12-01', '2010-01-01', '2010-02-01',\n",
      "               '2010-03-01', '2010-04-01', '2010-05-01', '2010-06-01',\n",
      "               '2010-07-01', '2010-08-01', '2010-09-01', '2010-10-01',\n",
      "               '2010-11-01', '2010-12-01'],\n",
      "              dtype='datetime64[ns]', freq=None)\n"
     ]
    }
   ],
   "source": [
    "# Step 1: Generate the full date range\n",
    "full_range = pd.date_range(start=\"1965-01\", end=\"2024-10\", freq=\"MS\")\n",
    "\n",
    "# Step 2: Extract the dates in your series\n",
    "existing_dates = TEMP_avg.index\n",
    "\n",
    "# Step 3: Find missing dates\n",
    "missing_dates = full_range.difference(existing_dates)\n",
    "\n",
    "print(\"Missing Dates:\")\n",
    "print(missing_dates)"
   ]
  },
  {
   "cell_type": "code",
   "execution_count": 15,
   "id": "b13e4168-e553-4071-8dfb-20395a72e726",
   "metadata": {
    "collapsed": true,
    "jupyter": {
     "outputs_hidden": true
    },
    "tags": []
   },
   "outputs": [
    {
     "data": {
      "text/html": [
       "<div>\n",
       "<style scoped>\n",
       "    .dataframe tbody tr th:only-of-type {\n",
       "        vertical-align: middle;\n",
       "    }\n",
       "\n",
       "    .dataframe tbody tr th {\n",
       "        vertical-align: top;\n",
       "    }\n",
       "\n",
       "    .dataframe thead th {\n",
       "        text-align: right;\n",
       "    }\n",
       "</style>\n",
       "<table border=\"1\" class=\"dataframe\">\n",
       "  <thead>\n",
       "    <tr style=\"text-align: right;\">\n",
       "      <th></th>\n",
       "      <th>TAVG</th>\n",
       "      <th>0</th>\n",
       "    </tr>\n",
       "  </thead>\n",
       "  <tbody>\n",
       "    <tr>\n",
       "      <th>1965-01</th>\n",
       "      <td>-7.166667</td>\n",
       "      <td>NaN</td>\n",
       "    </tr>\n",
       "    <tr>\n",
       "      <th>1965-02</th>\n",
       "      <td>-5.000000</td>\n",
       "      <td>NaN</td>\n",
       "    </tr>\n",
       "    <tr>\n",
       "      <th>1965-03</th>\n",
       "      <td>0.166667</td>\n",
       "      <td>NaN</td>\n",
       "    </tr>\n",
       "    <tr>\n",
       "      <th>1965-04</th>\n",
       "      <td>5.722222</td>\n",
       "      <td>NaN</td>\n",
       "    </tr>\n",
       "    <tr>\n",
       "      <th>1965-05</th>\n",
       "      <td>15.111111</td>\n",
       "      <td>NaN</td>\n",
       "    </tr>\n",
       "    <tr>\n",
       "      <th>...</th>\n",
       "      <td>...</td>\n",
       "      <td>...</td>\n",
       "    </tr>\n",
       "    <tr>\n",
       "      <th>2010-08-01 00:00:00</th>\n",
       "      <td>NaN</td>\n",
       "      <td>8.567939</td>\n",
       "    </tr>\n",
       "    <tr>\n",
       "      <th>2010-09-01 00:00:00</th>\n",
       "      <td>NaN</td>\n",
       "      <td>8.567939</td>\n",
       "    </tr>\n",
       "    <tr>\n",
       "      <th>2010-10-01 00:00:00</th>\n",
       "      <td>NaN</td>\n",
       "      <td>8.567939</td>\n",
       "    </tr>\n",
       "    <tr>\n",
       "      <th>2010-11-01 00:00:00</th>\n",
       "      <td>NaN</td>\n",
       "      <td>8.567939</td>\n",
       "    </tr>\n",
       "    <tr>\n",
       "      <th>2010-12-01 00:00:00</th>\n",
       "      <td>NaN</td>\n",
       "      <td>8.567939</td>\n",
       "    </tr>\n",
       "  </tbody>\n",
       "</table>\n",
       "<p>718 rows × 2 columns</p>\n",
       "</div>"
      ],
      "text/plain": [
       "                          TAVG         0\n",
       "1965-01              -7.166667       NaN\n",
       "1965-02              -5.000000       NaN\n",
       "1965-03               0.166667       NaN\n",
       "1965-04               5.722222       NaN\n",
       "1965-05              15.111111       NaN\n",
       "...                        ...       ...\n",
       "2010-08-01 00:00:00        NaN  8.567939\n",
       "2010-09-01 00:00:00        NaN  8.567939\n",
       "2010-10-01 00:00:00        NaN  8.567939\n",
       "2010-11-01 00:00:00        NaN  8.567939\n",
       "2010-12-01 00:00:00        NaN  8.567939\n",
       "\n",
       "[718 rows x 2 columns]"
      ]
     },
     "execution_count": 15,
     "metadata": {},
     "output_type": "execute_result"
    }
   ],
   "source": [
    "average_value = TEMP_avg.mean()\n",
    "\n",
    "# Step 4: Create a DataFrame for the missing dates\n",
    "missing_data = pd.Series(average_value[0], index=missing_dates)\n",
    "\n",
    "# Step 5: Combine existing and missing data\n",
    "filled_series = pd.concat([TEMP_avg, missing_data])\n",
    "\n",
    "#filled_series = filled_series.iloc[:, 0].combine_first(filled_series.iloc[:, 1])\n",
    "\n",
    "#filled_series = pd.Series(filled_series, index=filled_series.index)\n",
    "\n",
    "# # Step 6: Sort the series by date\n",
    "#T_avg = filled_series.sort_index()\n",
    "filled_series\n"
   ]
  },
  {
   "cell_type": "markdown",
   "id": "8a1b61be-65a6-4352-bf9d-af13c697d563",
   "metadata": {},
   "source": [
    "### Hargreaves"
   ]
  },
  {
   "cell_type": "code",
   "execution_count": 37,
   "id": "cc69f349-2a18-43b3-bbef-b58043989542",
   "metadata": {},
   "outputs": [],
   "source": [
    "pet_har = pyet.hargreaves(TEMP_avg['TAVG'], TEMP_max['TMAX'], TEMP_min['TMIN'], LAT, method=1)\n"
   ]
  },
  {
   "cell_type": "code",
   "execution_count": 41,
   "id": "7273f3ae-8952-4944-85ab-9400b3b674b5",
   "metadata": {
    "tags": []
   },
   "outputs": [],
   "source": [
    "pet_har.to_csv('Data\\Evap.csv')  \n"
   ]
  },
  {
   "cell_type": "markdown",
   "id": "826eaf89-1a09-4158-b133-0504afde0bf1",
   "metadata": {},
   "source": [
    "### Blaney Criddle"
   ]
  },
  {
   "cell_type": "code",
   "execution_count": 39,
   "id": "5bd1fd64-2d06-4fee-a861-77495d26240c",
   "metadata": {},
   "outputs": [],
   "source": [
    "pet_bc = pyet.blaney_criddle(TEMP_avg['TAVG'], LAT)"
   ]
  },
  {
   "cell_type": "code",
   "execution_count": 40,
   "id": "7911a3ea-eff4-480e-b584-a4fb59ca7c25",
   "metadata": {
    "collapsed": true,
    "jupyter": {
     "outputs_hidden": true
    },
    "tags": []
   },
   "outputs": [
    {
     "data": {
      "text/plain": [
       "DATE\n",
       "1965-01    0.000000\n",
       "1965-02    0.000000\n",
       "1965-03    0.424479\n",
       "1965-04    1.386584\n",
       "1965-05    3.009176\n",
       "             ...   \n",
       "2024-06    4.162986\n",
       "2024-07    4.577966\n",
       "2024-08    3.938434\n",
       "2024-09    2.921127\n",
       "2024-10    1.796174\n",
       "Name: Blaney_Criddle, Length: 684, dtype: float64"
      ]
     },
     "execution_count": 40,
     "metadata": {},
     "output_type": "execute_result"
    }
   ],
   "source": [
    "pet_bc"
   ]
  },
  {
   "cell_type": "markdown",
   "id": "018b4cdd-130a-4fd4-8455-aa3b072ac962",
   "metadata": {},
   "source": [
    "### Sunderland"
   ]
  },
  {
   "cell_type": "code",
   "execution_count": 14,
   "id": "8f31d3e4-f373-4a8f-8860-a1a5315ae9d9",
   "metadata": {
    "tags": []
   },
   "outputs": [],
   "source": [
    "PRCP = pd.read_csv(\"Data/3870796.csv\", delimiter=',', index_col=0, usecols=[2,3])  #inches to mm\n",
    "pd.to_datetime(PRCP.index)\n",
    "\n",
    "# TEMP_avg = pd.read_csv(\"Data/3856321.csv\", delimiter=',', index_col=0, usecols=[1,3])\n",
    "# pd.to_datetime(TEMP_avg.index)\n",
    "# TEMP_avg['TAVG'] = (TEMP_avg.values - 32)/1.8 #fahrenheit to Celcius\n",
    "\n",
    "TEMP_max = pd.read_csv(\"Data/3870796.csv\", delimiter=',', index_col=0, usecols=[2,6])\n",
    "pd.to_datetime(TEMP_max.index)\n",
    "\n",
    "TEMP_min = pd.read_csv(\"Data/3870796.csv\", delimiter=',', index_col=0, usecols=[2,7])\n",
    "pd.to_datetime(TEMP_min.index)\n",
    "\n",
    "TEMP_avg = (TEMP_max['TMAX'] + TEMP_min['TMIN']) / 2\n",
    "\n",
    "# Create a new DataFrame for TEMP_avg with the same index\n",
    "TEMP_avg = pd.DataFrame(TEMP_avg, columns=['TEMP_avg'])\n",
    "\n",
    "LAT = 42.3861 * np.pi / 180 # Latitude [rad]\n"
   ]
  },
  {
   "cell_type": "code",
   "execution_count": 16,
   "id": "6d7e6cf6-df77-419e-a696-9f82bb9d6d1a",
   "metadata": {
    "tags": []
   },
   "outputs": [
    {
     "data": {
      "text/html": [
       "<div>\n",
       "<style scoped>\n",
       "    .dataframe tbody tr th:only-of-type {\n",
       "        vertical-align: middle;\n",
       "    }\n",
       "\n",
       "    .dataframe tbody tr th {\n",
       "        vertical-align: top;\n",
       "    }\n",
       "\n",
       "    .dataframe thead th {\n",
       "        text-align: right;\n",
       "    }\n",
       "</style>\n",
       "<table border=\"1\" class=\"dataframe\">\n",
       "  <thead>\n",
       "    <tr style=\"text-align: right;\">\n",
       "      <th></th>\n",
       "      <th>TMAX</th>\n",
       "    </tr>\n",
       "    <tr>\n",
       "      <th>DATE</th>\n",
       "      <th></th>\n",
       "    </tr>\n",
       "  </thead>\n",
       "  <tbody>\n",
       "    <tr>\n",
       "      <th>1965-01-01</th>\n",
       "      <td>2.2</td>\n",
       "    </tr>\n",
       "    <tr>\n",
       "      <th>1965-01-02</th>\n",
       "      <td>-1.1</td>\n",
       "    </tr>\n",
       "    <tr>\n",
       "      <th>1965-01-03</th>\n",
       "      <td>-3.9</td>\n",
       "    </tr>\n",
       "    <tr>\n",
       "      <th>1965-01-04</th>\n",
       "      <td>-2.8</td>\n",
       "    </tr>\n",
       "    <tr>\n",
       "      <th>1965-01-05</th>\n",
       "      <td>2.2</td>\n",
       "    </tr>\n",
       "    <tr>\n",
       "      <th>...</th>\n",
       "      <td>...</td>\n",
       "    </tr>\n",
       "    <tr>\n",
       "      <th>2024-12-02</th>\n",
       "      <td>2.2</td>\n",
       "    </tr>\n",
       "    <tr>\n",
       "      <th>2024-12-03</th>\n",
       "      <td>3.3</td>\n",
       "    </tr>\n",
       "    <tr>\n",
       "      <th>2024-12-04</th>\n",
       "      <td>2.8</td>\n",
       "    </tr>\n",
       "    <tr>\n",
       "      <th>2024-12-05</th>\n",
       "      <td>2.2</td>\n",
       "    </tr>\n",
       "    <tr>\n",
       "      <th>2024-12-06</th>\n",
       "      <td>5.0</td>\n",
       "    </tr>\n",
       "  </tbody>\n",
       "</table>\n",
       "<p>21828 rows × 1 columns</p>\n",
       "</div>"
      ],
      "text/plain": [
       "            TMAX\n",
       "DATE            \n",
       "1965-01-01   2.2\n",
       "1965-01-02  -1.1\n",
       "1965-01-03  -3.9\n",
       "1965-01-04  -2.8\n",
       "1965-01-05   2.2\n",
       "...          ...\n",
       "2024-12-02   2.2\n",
       "2024-12-03   3.3\n",
       "2024-12-04   2.8\n",
       "2024-12-05   2.2\n",
       "2024-12-06   5.0\n",
       "\n",
       "[21828 rows x 1 columns]"
      ]
     },
     "execution_count": 16,
     "metadata": {},
     "output_type": "execute_result"
    }
   ],
   "source": [
    "TEMP_max"
   ]
  },
  {
   "cell_type": "markdown",
   "id": "a2a4d169-645e-4c14-ae47-ae99d5b8e41b",
   "metadata": {
    "tags": []
   },
   "source": [
    "### Hargreaves"
   ]
  },
  {
   "cell_type": "code",
   "execution_count": 32,
   "id": "d247ff7e-e72a-4df5-964b-7ca04bc03920",
   "metadata": {
    "tags": []
   },
   "outputs": [
    {
     "name": "stderr",
     "output_type": "stream",
     "text": [
      "C:\\Users\\irish\\anaconda\\envs\\mude\\Lib\\site-packages\\pandas\\core\\arraylike.py:396: RuntimeWarning: invalid value encountered in sqrt\n",
      "  result = getattr(ufunc, method)(*inputs, **kwargs)\n"
     ]
    }
   ],
   "source": [
    "pet_har = pyet.hargreaves(TEMP_avg['TEMP_avg'], TEMP_max['TMAX'], TEMP_min['TMIN'], LAT, method=1)"
   ]
  },
  {
   "cell_type": "code",
   "execution_count": null,
   "id": "54b0c6ff-90d2-4503-b95a-d265745fdcf5",
   "metadata": {},
   "outputs": [],
   "source": []
  },
  {
   "cell_type": "code",
   "execution_count": 6,
   "id": "f306eda8-0cc7-4ad6-a925-5edcc8df77b2",
   "metadata": {
    "tags": []
   },
   "outputs": [
    {
     "ename": "KeyError",
     "evalue": "'TMAX'",
     "output_type": "error",
     "traceback": [
      "\u001b[1;31m---------------------------------------------------------------------------\u001b[0m",
      "\u001b[1;31mDateParseError\u001b[0m                            Traceback (most recent call last)",
      "File \u001b[1;32m~\\anaconda\\envs\\mude\\Lib\\site-packages\\pandas\\core\\indexes\\datetimes.py:557\u001b[0m, in \u001b[0;36mDatetimeIndex.get_loc\u001b[1;34m(self, key)\u001b[0m\n\u001b[0;32m    556\u001b[0m \u001b[38;5;28;01mtry\u001b[39;00m:\n\u001b[1;32m--> 557\u001b[0m     parsed, reso \u001b[38;5;241m=\u001b[39m \u001b[38;5;28mself\u001b[39m\u001b[38;5;241m.\u001b[39m_parse_with_reso(key)\n\u001b[0;32m    558\u001b[0m \u001b[38;5;28;01mexcept\u001b[39;00m (\u001b[38;5;167;01mValueError\u001b[39;00m, pytz\u001b[38;5;241m.\u001b[39mNonExistentTimeError) \u001b[38;5;28;01mas\u001b[39;00m err:\n",
      "File \u001b[1;32m~\\anaconda\\envs\\mude\\Lib\\site-packages\\pandas\\core\\indexes\\datetimes.py:513\u001b[0m, in \u001b[0;36mDatetimeIndex._parse_with_reso\u001b[1;34m(self, label)\u001b[0m\n\u001b[0;32m    512\u001b[0m \u001b[38;5;28;01mdef\u001b[39;00m \u001b[38;5;21m_parse_with_reso\u001b[39m(\u001b[38;5;28mself\u001b[39m, label: \u001b[38;5;28mstr\u001b[39m):\n\u001b[1;32m--> 513\u001b[0m     parsed, reso \u001b[38;5;241m=\u001b[39m \u001b[38;5;28msuper\u001b[39m()\u001b[38;5;241m.\u001b[39m_parse_with_reso(label)\n\u001b[0;32m    515\u001b[0m     parsed \u001b[38;5;241m=\u001b[39m Timestamp(parsed)\n",
      "File \u001b[1;32m~\\anaconda\\envs\\mude\\Lib\\site-packages\\pandas\\core\\indexes\\datetimelike.py:267\u001b[0m, in \u001b[0;36mDatetimeIndexOpsMixin._parse_with_reso\u001b[1;34m(self, label)\u001b[0m\n\u001b[0;32m    265\u001b[0m     label \u001b[38;5;241m=\u001b[39m \u001b[38;5;28mstr\u001b[39m(label)\n\u001b[1;32m--> 267\u001b[0m parsed, reso_str \u001b[38;5;241m=\u001b[39m parsing\u001b[38;5;241m.\u001b[39mparse_datetime_string_with_reso(label, freqstr)\n\u001b[0;32m    268\u001b[0m reso \u001b[38;5;241m=\u001b[39m Resolution\u001b[38;5;241m.\u001b[39mfrom_attrname(reso_str)\n",
      "File \u001b[1;32m~\\anaconda\\envs\\mude\\Lib\\site-packages\\pandas\\_libs\\tslibs\\parsing.pyx:435\u001b[0m, in \u001b[0;36mpandas._libs.tslibs.parsing.parse_datetime_string_with_reso\u001b[1;34m()\u001b[0m\n",
      "File \u001b[1;32m~\\anaconda\\envs\\mude\\Lib\\site-packages\\pandas\\_libs\\tslibs\\parsing.pyx:658\u001b[0m, in \u001b[0;36mpandas._libs.tslibs.parsing.dateutil_parse\u001b[1;34m()\u001b[0m\n",
      "\u001b[1;31mDateParseError\u001b[0m: Unknown datetime string format, unable to parse: TMAX",
      "\nThe above exception was the direct cause of the following exception:\n",
      "\u001b[1;31mKeyError\u001b[0m                                  Traceback (most recent call last)",
      "Cell \u001b[1;32mIn[6], line 34\u001b[0m\n\u001b[0;32m     28\u001b[0m TEMP_max \u001b[38;5;241m=\u001b[39m pd\u001b[38;5;241m.\u001b[39mread_csv(file_path, delimiter\u001b[38;5;241m=\u001b[39m\u001b[38;5;124m'\u001b[39m\u001b[38;5;124m,\u001b[39m\u001b[38;5;124m'\u001b[39m, usecols\u001b[38;5;241m=\u001b[39m[\u001b[38;5;124m'\u001b[39m\u001b[38;5;124mDATE\u001b[39m\u001b[38;5;124m'\u001b[39m, \u001b[38;5;124m'\u001b[39m\u001b[38;5;124mTMAX\u001b[39m\u001b[38;5;124m'\u001b[39m], \n\u001b[0;32m     29\u001b[0m                  parse_dates\u001b[38;5;241m=\u001b[39m[\u001b[38;5;124m'\u001b[39m\u001b[38;5;124mDATE\u001b[39m\u001b[38;5;124m'\u001b[39m], index_col\u001b[38;5;241m=\u001b[39m\u001b[38;5;124m'\u001b[39m\u001b[38;5;124mDATE\u001b[39m\u001b[38;5;124m'\u001b[39m)\u001b[38;5;241m.\u001b[39msqueeze()\n\u001b[0;32m     31\u001b[0m TEMP_min \u001b[38;5;241m=\u001b[39m pd\u001b[38;5;241m.\u001b[39mread_csv(file_path, delimiter\u001b[38;5;241m=\u001b[39m\u001b[38;5;124m'\u001b[39m\u001b[38;5;124m,\u001b[39m\u001b[38;5;124m'\u001b[39m, usecols\u001b[38;5;241m=\u001b[39m[\u001b[38;5;124m'\u001b[39m\u001b[38;5;124mDATE\u001b[39m\u001b[38;5;124m'\u001b[39m, \u001b[38;5;124m'\u001b[39m\u001b[38;5;124mTMIN\u001b[39m\u001b[38;5;124m'\u001b[39m], \n\u001b[0;32m     32\u001b[0m                  parse_dates\u001b[38;5;241m=\u001b[39m[\u001b[38;5;124m'\u001b[39m\u001b[38;5;124mDATE\u001b[39m\u001b[38;5;124m'\u001b[39m], index_col\u001b[38;5;241m=\u001b[39m\u001b[38;5;124m'\u001b[39m\u001b[38;5;124mDATE\u001b[39m\u001b[38;5;124m'\u001b[39m)\u001b[38;5;241m.\u001b[39msqueeze()\n\u001b[1;32m---> 34\u001b[0m TEMP_avg \u001b[38;5;241m=\u001b[39m (TEMP_max[\u001b[38;5;124m'\u001b[39m\u001b[38;5;124mTMAX\u001b[39m\u001b[38;5;124m'\u001b[39m] \u001b[38;5;241m+\u001b[39m TEMP_min[\u001b[38;5;124m'\u001b[39m\u001b[38;5;124mTMIN\u001b[39m\u001b[38;5;124m'\u001b[39m]) \u001b[38;5;241m/\u001b[39m \u001b[38;5;241m2\u001b[39m\n\u001b[0;32m     35\u001b[0m TEMP_avg \u001b[38;5;241m=\u001b[39m pd\u001b[38;5;241m.\u001b[39mDataFrame(TEMP_avg, columns\u001b[38;5;241m=\u001b[39m[\u001b[38;5;124m'\u001b[39m\u001b[38;5;124mTEMP_avg\u001b[39m\u001b[38;5;124m'\u001b[39m])\n\u001b[0;32m     37\u001b[0m lat \u001b[38;5;241m=\u001b[39m  pd\u001b[38;5;241m.\u001b[39mread_csv(file_path, delimiter\u001b[38;5;241m=\u001b[39m\u001b[38;5;124m'\u001b[39m\u001b[38;5;124m,\u001b[39m\u001b[38;5;124m'\u001b[39m, usecols\u001b[38;5;241m=\u001b[39m[\u001b[38;5;124m'\u001b[39m\u001b[38;5;124mLATITUDE\u001b[39m\u001b[38;5;124m'\u001b[39m])\n",
      "File \u001b[1;32m~\\anaconda\\envs\\mude\\Lib\\site-packages\\pandas\\core\\series.py:1007\u001b[0m, in \u001b[0;36mSeries.__getitem__\u001b[1;34m(self, key)\u001b[0m\n\u001b[0;32m   1004\u001b[0m     \u001b[38;5;28;01mreturn\u001b[39;00m \u001b[38;5;28mself\u001b[39m\u001b[38;5;241m.\u001b[39m_values[key]\n\u001b[0;32m   1006\u001b[0m \u001b[38;5;28;01melif\u001b[39;00m key_is_scalar:\n\u001b[1;32m-> 1007\u001b[0m     \u001b[38;5;28;01mreturn\u001b[39;00m \u001b[38;5;28mself\u001b[39m\u001b[38;5;241m.\u001b[39m_get_value(key)\n\u001b[0;32m   1009\u001b[0m \u001b[38;5;28;01mif\u001b[39;00m is_hashable(key):\n\u001b[0;32m   1010\u001b[0m     \u001b[38;5;66;03m# Otherwise index.get_value will raise InvalidIndexError\u001b[39;00m\n\u001b[0;32m   1011\u001b[0m     \u001b[38;5;28;01mtry\u001b[39;00m:\n\u001b[0;32m   1012\u001b[0m         \u001b[38;5;66;03m# For labels that don't resolve as scalars like tuples and frozensets\u001b[39;00m\n",
      "File \u001b[1;32m~\\anaconda\\envs\\mude\\Lib\\site-packages\\pandas\\core\\series.py:1116\u001b[0m, in \u001b[0;36mSeries._get_value\u001b[1;34m(self, label, takeable)\u001b[0m\n\u001b[0;32m   1113\u001b[0m     \u001b[38;5;28;01mreturn\u001b[39;00m \u001b[38;5;28mself\u001b[39m\u001b[38;5;241m.\u001b[39m_values[label]\n\u001b[0;32m   1115\u001b[0m \u001b[38;5;66;03m# Similar to Index.get_value, but we do not fall back to positional\u001b[39;00m\n\u001b[1;32m-> 1116\u001b[0m loc \u001b[38;5;241m=\u001b[39m \u001b[38;5;28mself\u001b[39m\u001b[38;5;241m.\u001b[39mindex\u001b[38;5;241m.\u001b[39mget_loc(label)\n\u001b[0;32m   1118\u001b[0m \u001b[38;5;28;01mif\u001b[39;00m is_integer(loc):\n\u001b[0;32m   1119\u001b[0m     \u001b[38;5;28;01mreturn\u001b[39;00m \u001b[38;5;28mself\u001b[39m\u001b[38;5;241m.\u001b[39m_values[loc]\n",
      "File \u001b[1;32m~\\anaconda\\envs\\mude\\Lib\\site-packages\\pandas\\core\\indexes\\datetimes.py:559\u001b[0m, in \u001b[0;36mDatetimeIndex.get_loc\u001b[1;34m(self, key)\u001b[0m\n\u001b[0;32m    557\u001b[0m     parsed, reso \u001b[38;5;241m=\u001b[39m \u001b[38;5;28mself\u001b[39m\u001b[38;5;241m.\u001b[39m_parse_with_reso(key)\n\u001b[0;32m    558\u001b[0m \u001b[38;5;28;01mexcept\u001b[39;00m (\u001b[38;5;167;01mValueError\u001b[39;00m, pytz\u001b[38;5;241m.\u001b[39mNonExistentTimeError) \u001b[38;5;28;01mas\u001b[39;00m err:\n\u001b[1;32m--> 559\u001b[0m     \u001b[38;5;28;01mraise\u001b[39;00m \u001b[38;5;167;01mKeyError\u001b[39;00m(key) \u001b[38;5;28;01mfrom\u001b[39;00m \u001b[38;5;21;01merr\u001b[39;00m\n\u001b[0;32m    560\u001b[0m \u001b[38;5;28mself\u001b[39m\u001b[38;5;241m.\u001b[39m_disallow_mismatched_indexing(parsed)\n\u001b[0;32m    562\u001b[0m \u001b[38;5;28;01mif\u001b[39;00m \u001b[38;5;28mself\u001b[39m\u001b[38;5;241m.\u001b[39m_can_partial_date_slice(reso):\n",
      "\u001b[1;31mKeyError\u001b[0m: 'TMAX'"
     ]
    }
   ],
   "source": [
    "files = [\n",
    "    {\"file\": \"Precip_Temp/AUGUSTA_STATE_AIRPORT_ME_US.csv\"},\n",
    "    {\"file\": \"Precip_Temp/ACADIA_NATIONAL_PARK_ME_US.csv\"},\n",
    "    {\"file\": \"Precip_Temp/BANGOR_INTERNATIONAL_AIRPORT_ME_US.csv\"},\n",
    "    {\"file\": \"Precip_Temp/BINGHAM_WYMAN_DAM_ME_US.csv\"},\n",
    "    {\"file\": \"Precip_Temp/BRASSUA_DAM_ME_US.csv\"},\n",
    "    {\"file\": \"Precip_Temp/BRIDGEWATER_ME_US.csv\"},\n",
    "    {\"file\": \"Precip_Temp/BRIDGTON_3_NW_ME_US.csv\"},\n",
    "    {\"file\": \"Precip_Temp/BRUNSWICK_NAS_ME_US.csv\"},\n",
    "    {\"file\": \"Precip_Temp/CARIBOU_WEATHER_FORECAST_OFFICE_ME_US.csv\"},\n",
    "    {\"file\": \"Precip_Temp/CORINNA_ME_US.csv\"},\n",
    "    {\"file\": \"Precip_Temp/DOVER_FOXCROFT_WWTP_ME_US.csv\"},\n",
    "    {\"file\": \"Precip_Temp/EASTPORT_ME_US.csv\"},\n",
    "    {\"file\": \"Precip_Temp/FARMINGTON_ME_US.csv\"},\n",
    "    {\"file\": \"Precip_Temp/GARDINER_ME_US.csv\"},\n",
    "    {\"file\": \"Precip_Temp/HARMONY_ME_US.csv\"},\n",
    "]\n",
    "\n",
    "\n",
    "# Loop over each file and its corresponding height\n",
    "for entry in files:\n",
    "    file_path = entry[\"file\"]\n",
    "\n",
    "    station_name = os.path.basename(file_path).split('.')[0]\n",
    "\n",
    "    \n",
    "    # Read and process the data\n",
    "    TEMP_max = pd.read_csv(file_path, delimiter=',', usecols=['DATE', 'TMAX'], \n",
    "                     parse_dates=['DATE'], index_col='DATE').squeeze()\n",
    "    \n",
    "    TEMP_min = pd.read_csv(file_path, delimiter=',', usecols=['DATE', 'TMIN'], \n",
    "                     parse_dates=['DATE'], index_col='DATE').squeeze()\n",
    "    \n",
    "    TEMP_avg = (TEMP_max['TMAX'] + TEMP_min['TMIN']) / 2\n",
    "    TEMP_avg = pd.DataFrame(TEMP_avg, columns=['TEMP_avg'])\n",
    "    \n",
    "    lat =  pd.read_csv(file_path, delimiter=',', usecols=['LATITUDE'])\n",
    "\n",
    "    LAT = lat.at[0, 'LATITUDE'] * np.pi / 180 # Latitude [rad]\n",
    "    \n",
    "    df[f'pet_har_{station_name}'] = pyet.hargreaves(TEMP_avg['TEMP_avg'], TEMP_max['TMAX'], TEMP_min['TMIN'], LAT, method=1)\n",
    "\n"
   ]
  },
  {
   "cell_type": "code",
   "execution_count": null,
   "id": "2e434366-f4e8-4482-9742-390e315d3f95",
   "metadata": {},
   "outputs": [],
   "source": [
    "PRCP = pd.read_csv(\"Data/3856321.csv\", delimiter=',', index_col=0, usecols=[1,2])*25.4  #inches to mm\n",
    "pd.to_datetime(PRCP.index)\n",
    "\n",
    "TEMP_avg = pd.read_csv(\"Data/3856321.csv\", delimiter=',', index_col=0, usecols=[1,3])\n",
    "pd.to_datetime(TEMP_avg.index)\n",
    "TEMP_avg['TAVG'] = (TEMP_avg.values - 32)/1.8 #fahrenheit to Celcius\n",
    "\n",
    "TEMP_max = pd.read_csv(\"Precip_Temp/BRUNSWICK_NAS_ME_US.csv\", delimiter=',', usecols=['DATE', 'TMAX'], \n",
    "                     parse_dates=['DATE'], index_col='DATE').squeeze()\n",
    "\n",
    "TEMP_min = pd.read_csv(\"Precip_Temp/BRUNSWICK_NAS_ME_US.csv\", delimiter=',', usecols=['DATE', 'TMIN'], \n",
    "                     parse_dates=['DATE'], index_col='DATE').squeeze()\n",
    "\n",
    "LAT = 42.1103 * np.pi / 180 # Latitude [rad]\n",
    "ELE = 700 * 0.3048 # feet to meters"
   ]
  },
  {
   "cell_type": "code",
   "execution_count": null,
   "id": "5fe54cda-c907-4eae-b66b-d47451ad1f1e",
   "metadata": {},
   "outputs": [],
   "source": []
  },
  {
   "cell_type": "code",
   "execution_count": 47,
   "id": "4f6a77e5-2f35-4d3b-af1e-0bfd6796a54c",
   "metadata": {},
   "outputs": [],
   "source": [
    "# Read and process the date\n",
    "TEMP_max = pd.read_csv(\"Precip_Temp/BRUNSWICK_NAS_ME_US.csv\", delimiter=',', usecols=['DATE', 'TMAX'], \n",
    "                     parse_dates=['DATE'], index_col='DATE')\n",
    "\n",
    "TEMP_min = pd.read_csv(\"Precip_Temp/BRUNSWICK_NAS_ME_US.csv\", delimiter=',', usecols=['DATE', 'TMIN'], \n",
    "                     parse_dates=['DATE'], index_col='DATE')\n",
    "\n",
    "TEMP_avg = (TEMP_max['TMAX'] + TEMP_min['TMIN']) / 2\n",
    "TEMP_avg = pd.DataFrame(TEMP_avg, columns=['TEMP_avg'])\n",
    "\n",
    "\n",
    "lat =  pd.read_csv(\"Precip_Temp/BRUNSWICK_NAS_ME_US.csv\", delimiter=',', usecols=['LATITUDE'])\n",
    "LAT = lat.at[0, 'LATITUDE'] * np.pi / 180 # Latitude [rad]"
   ]
  },
  {
   "cell_type": "code",
   "execution_count": 48,
   "id": "9b35df58-28b6-484c-9fce-d1f98fba6b77",
   "metadata": {
    "tags": []
   },
   "outputs": [
    {
     "name": "stderr",
     "output_type": "stream",
     "text": [
      "C:\\Users\\irish\\anaconda\\envs\\mude\\Lib\\site-packages\\pandas\\core\\arraylike.py:396: RuntimeWarning: invalid value encountered in sqrt\n",
      "  result = getattr(ufunc, method)(*inputs, **kwargs)\n"
     ]
    }
   ],
   "source": [
    "pet_har = pyet.hargreaves(TEMP_avg['TEMP_avg'], TEMP_max['TMAX'], TEMP_min['TMIN'], LAT, method=1)\n"
   ]
  },
  {
   "cell_type": "code",
   "execution_count": 50,
   "id": "1765914b-4dbc-47ff-9560-fe5bed8faa5a",
   "metadata": {
    "tags": []
   },
   "outputs": [],
   "source": [
    "pet_har.to_csv('Evap\\Brunswick.csv')"
   ]
  },
  {
   "cell_type": "code",
   "execution_count": null,
   "id": "6e096ddf-983b-432f-a49e-69cf0625e4a1",
   "metadata": {},
   "outputs": [],
   "source": []
  },
  {
   "cell_type": "code",
   "execution_count": 3,
   "id": "ddf02c12-aa7e-4918-82cd-db3507f73f3e",
   "metadata": {
    "tags": []
   },
   "outputs": [],
   "source": [
    "# Read and process the date\n",
    "TEMP_max = pd.read_csv(\"Precip_Temp/AUGUSTA_STATE_AIRPORT_ME_US.csv\", delimiter=',', usecols=['DATE', 'TMAX'], \n",
    "                     parse_dates=['DATE'], index_col='DATE')\n",
    "\n",
    "TEMP_min = pd.read_csv(\"Precip_Temp/AUGUSTA_STATE_AIRPORT_ME_US.csv\", delimiter=',', usecols=['DATE', 'TMIN'], \n",
    "                     parse_dates=['DATE'], index_col='DATE')\n",
    "\n",
    "TEMP_avg = (TEMP_max['TMAX'] + TEMP_min['TMIN']) / 2\n",
    "TEMP_avg = pd.DataFrame(TEMP_avg, columns=['TEMP_avg'])\n",
    "\n",
    "\n",
    "lat =  pd.read_csv(\"Precip_Temp/AUGUSTA_STATE_AIRPORT_ME_US.csv\", delimiter=',', usecols=['LATITUDE'])\n",
    "LAT = lat.at[0, 'LATITUDE'] * np.pi / 180 # Latitude [rad]"
   ]
  },
  {
   "cell_type": "code",
   "execution_count": 4,
   "id": "283d24e3-b48f-41e4-a2c6-1f12e3fb800d",
   "metadata": {
    "tags": []
   },
   "outputs": [],
   "source": [
    "pet_har = pyet.hargreaves(TEMP_avg['TEMP_avg'], TEMP_max['TMAX'], TEMP_min['TMIN'], LAT, method=1)"
   ]
  },
  {
   "cell_type": "code",
   "execution_count": 5,
   "id": "aa1b49be-c9c1-44c4-a184-acf52972c15f",
   "metadata": {
    "tags": []
   },
   "outputs": [
    {
     "data": {
      "text/plain": [
       "DATE\n",
       "1960-01-01    0.337597\n",
       "1960-01-02    0.413747\n",
       "1960-01-03    0.688701\n",
       "1960-01-04    0.575495\n",
       "1960-01-05    0.392977\n",
       "                ...   \n",
       "2024-10-28    0.958893\n",
       "2024-10-29    1.001981\n",
       "2024-10-30    1.288240\n",
       "2024-10-31    1.947040\n",
       "2024-11-01    1.814516\n",
       "Name: Hargreaves, Length: 23681, dtype: float64"
      ]
     },
     "execution_count": 5,
     "metadata": {},
     "output_type": "execute_result"
    }
   ],
   "source": [
    "pet_har"
   ]
  },
  {
   "cell_type": "code",
   "execution_count": 6,
   "id": "3ae500e1-4abf-4aa8-a4ee-6e2ae2edaa2a",
   "metadata": {
    "tags": []
   },
   "outputs": [],
   "source": [
    "pet_har.to_csv('Evap\\AUGUSTA.csv')"
   ]
  },
  {
   "cell_type": "code",
   "execution_count": 7,
   "id": "86fdd9e9-df97-4edd-a96b-850853abadbd",
   "metadata": {
    "tags": []
   },
   "outputs": [],
   "source": [
    "# Read and process the date\n",
    "TEMP_max = pd.read_csv(\"Precip_Temp/BANGOR_INTERNATIONAL_AIRPORT_ME_US.csv\", delimiter=',', usecols=['DATE', 'TMAX'], \n",
    "                     parse_dates=['DATE'], index_col='DATE')\n",
    "\n",
    "TEMP_min = pd.read_csv(\"Precip_Temp/BANGOR_INTERNATIONAL_AIRPORT_ME_US.csv\", delimiter=',', usecols=['DATE', 'TMIN'], \n",
    "                     parse_dates=['DATE'], index_col='DATE')\n",
    "\n",
    "TEMP_avg = (TEMP_max['TMAX'] + TEMP_min['TMIN']) / 2\n",
    "TEMP_avg = pd.DataFrame(TEMP_avg, columns=['TEMP_avg'])\n",
    "\n",
    "\n",
    "lat =  pd.read_csv(\"Precip_Temp/BANGOR_INTERNATIONAL_AIRPORT_ME_US.csv\", delimiter=',', usecols=['LATITUDE'])\n",
    "LAT = lat.at[0, 'LATITUDE'] * np.pi / 180 # Latitude [rad]"
   ]
  },
  {
   "cell_type": "code",
   "execution_count": 10,
   "id": "44b56421-568b-4814-9bcc-453496f39542",
   "metadata": {
    "tags": []
   },
   "outputs": [],
   "source": [
    "pet_har = pyet.hargreaves(TEMP_avg['TEMP_avg'], TEMP_max['TMAX'], TEMP_min['TMIN'], LAT, method=1)"
   ]
  },
  {
   "cell_type": "code",
   "execution_count": 11,
   "id": "7a398081-c0ab-4ed2-bc35-2d64fd6791d2",
   "metadata": {
    "tags": []
   },
   "outputs": [
    {
     "data": {
      "text/plain": [
       "DATE\n",
       "1960-01-01    0.238462\n",
       "1960-01-02    0.626326\n",
       "1960-01-03    0.670675\n",
       "1960-01-04    0.551579\n",
       "1960-01-05    0.367965\n",
       "                ...   \n",
       "2024-10-28    0.999944\n",
       "2024-10-29    1.221673\n",
       "2024-10-30    1.265622\n",
       "2024-10-31    2.049452\n",
       "2024-11-01    2.069591\n",
       "Name: Hargreaves, Length: 23621, dtype: float64"
      ]
     },
     "execution_count": 11,
     "metadata": {},
     "output_type": "execute_result"
    }
   ],
   "source": [
    "pet_har"
   ]
  },
  {
   "cell_type": "code",
   "execution_count": 12,
   "id": "ec2080f7-376d-482b-b0fa-81ab85d4bda1",
   "metadata": {
    "tags": []
   },
   "outputs": [],
   "source": [
    "pet_har.to_csv('Evap\\BANGOR.csv')"
   ]
  },
  {
   "cell_type": "code",
   "execution_count": 15,
   "id": "eede46d5-6125-4ec9-b5bd-9ee222ced5b4",
   "metadata": {
    "tags": []
   },
   "outputs": [],
   "source": [
    "# Read and process the date\n",
    "TEMP_max = pd.read_csv(\"Precip_Temp/EASTPORT_ME_US.csv\", delimiter=',', usecols=['DATE', 'TMAX'], \n",
    "                     parse_dates=['DATE'], index_col='DATE')\n",
    "\n",
    "TEMP_min = pd.read_csv(\"Precip_Temp/EASTPORT_ME_US.csv\", delimiter=',', usecols=['DATE', 'TMIN'], \n",
    "                     parse_dates=['DATE'], index_col='DATE')\n",
    "\n",
    "TEMP_avg = (TEMP_max['TMAX'] + TEMP_min['TMIN']) / 2\n",
    "TEMP_avg = pd.DataFrame(TEMP_avg, columns=['TEMP_avg'])\n",
    "\n",
    "\n",
    "lat =  pd.read_csv(\"Precip_Temp/EASTPORT_ME_US.csv\", delimiter=',', usecols=['LATITUDE'])\n",
    "LAT = lat.at[0, 'LATITUDE'] * np.pi / 180 # Latitude [rad]"
   ]
  },
  {
   "cell_type": "code",
   "execution_count": 16,
   "id": "ff60e74e-3a6f-4b06-86ef-f0013feba7bd",
   "metadata": {
    "tags": []
   },
   "outputs": [
    {
     "name": "stderr",
     "output_type": "stream",
     "text": [
      "C:\\Users\\irish\\anaconda\\envs\\mude\\Lib\\site-packages\\pandas\\core\\arraylike.py:396: RuntimeWarning: invalid value encountered in sqrt\n",
      "  result = getattr(ufunc, method)(*inputs, **kwargs)\n"
     ]
    }
   ],
   "source": [
    "pet_har = pyet.hargreaves(TEMP_avg['TEMP_avg'], TEMP_max['TMAX'], TEMP_min['TMIN'], LAT, method=1)"
   ]
  },
  {
   "cell_type": "code",
   "execution_count": 4,
   "id": "cac9e240-d497-44b3-95cc-53e7f8a311d7",
   "metadata": {
    "tags": []
   },
   "outputs": [],
   "source": [
    "# Read and process the date\n",
    "TEMP_max = pd.read_csv(\"Precip_Temp/DOVER_FOXCROFT_WWTP_ME_US.csv\", delimiter=',', usecols=['DATE', 'TMAX'], \n",
    "                     parse_dates=['DATE'], index_col='DATE')\n",
    "\n",
    "TEMP_min = pd.read_csv(\"Precip_Temp/DOVER_FOXCROFT_WWTP_ME_US.csv\", delimiter=',', usecols=['DATE', 'TMIN'], \n",
    "                     parse_dates=['DATE'], index_col='DATE')\n",
    "\n",
    "TEMP_avg = (TEMP_max['TMAX'] + TEMP_min['TMIN']) / 2\n",
    "TEMP_avg = pd.DataFrame(TEMP_avg, columns=['TEMP_avg'])\n",
    "\n",
    "\n",
    "lat =  pd.read_csv(\"Precip_Temp/DOVER_FOXCROFT_WWTP_ME_US.csv\", delimiter=',', usecols=['LATITUDE'])\n",
    "LAT = lat.at[0, 'LATITUDE'] * np.pi / 180 # Latitude [rad]"
   ]
  },
  {
   "cell_type": "code",
   "execution_count": 5,
   "id": "808674ab-172a-4b65-a2f5-ad7bf4b0cdc0",
   "metadata": {
    "tags": []
   },
   "outputs": [
    {
     "name": "stderr",
     "output_type": "stream",
     "text": [
      "C:\\Users\\irish\\anaconda\\envs\\mude\\Lib\\site-packages\\pandas\\core\\arraylike.py:396: RuntimeWarning: invalid value encountered in sqrt\n",
      "  result = getattr(ufunc, method)(*inputs, **kwargs)\n"
     ]
    }
   ],
   "source": [
    "pet_har = pyet.hargreaves(TEMP_avg['TEMP_avg'], TEMP_max['TMAX'], TEMP_min['TMIN'], LAT, method=1)"
   ]
  },
  {
   "cell_type": "code",
   "execution_count": 6,
   "id": "c9e84ed6-438e-47e2-869c-63b1af1bac49",
   "metadata": {
    "tags": []
   },
   "outputs": [],
   "source": [
    "# Read and process the date\n",
    "TEMP_max = pd.read_csv(\"Precip_Temp/CARIBOU_WEATHER_FORECAST_OFFICE_ME_US.csv\", delimiter=',', usecols=['DATE', 'TMAX'], \n",
    "                     parse_dates=['DATE'], index_col='DATE')\n",
    "\n",
    "TEMP_min = pd.read_csv(\"Precip_Temp/CARIBOU_WEATHER_FORECAST_OFFICE_ME_US.csv\", delimiter=',', usecols=['DATE', 'TMIN'], \n",
    "                     parse_dates=['DATE'], index_col='DATE')\n",
    "\n",
    "TEMP_avg = (TEMP_max['TMAX'] + TEMP_min['TMIN']) / 2\n",
    "TEMP_avg = pd.DataFrame(TEMP_avg, columns=['TEMP_avg'])\n",
    "\n",
    "\n",
    "lat =  pd.read_csv(\"Precip_Temp/CARIBOU_WEATHER_FORECAST_OFFICE_ME_US.csv\", delimiter=',', usecols=['LATITUDE'])\n",
    "LAT = lat.at[0, 'LATITUDE'] * np.pi / 180 # Latitude [rad]"
   ]
  },
  {
   "cell_type": "code",
   "execution_count": 7,
   "id": "1f0febf1-43cf-4621-8c7b-4edef5364711",
   "metadata": {
    "tags": []
   },
   "outputs": [],
   "source": [
    "pet_har = pyet.hargreaves(TEMP_avg['TEMP_avg'], TEMP_max['TMAX'], TEMP_min['TMIN'], LAT, method=1)"
   ]
  },
  {
   "cell_type": "code",
   "execution_count": 8,
   "id": "370b79a2-84fa-42e0-882f-98d63fbf88be",
   "metadata": {
    "tags": []
   },
   "outputs": [],
   "source": [
    "pet_har.to_csv('Evap\\CARIBOU.csv')"
   ]
  },
  {
   "cell_type": "markdown",
   "id": "84012b74-d86d-4c4f-b033-2a8409e31bab",
   "metadata": {},
   "source": [
    "### EVAP CT"
   ]
  },
  {
   "cell_type": "code",
   "execution_count": 3,
   "id": "84723b27-6197-4152-a1f7-469331b4e592",
   "metadata": {
    "tags": []
   },
   "outputs": [],
   "source": [
    "# Read and process the date\n",
    "TEMP_max = pd.read_csv(\"Precip_Temp/CT/STORRS.csv\", delimiter=';', usecols=['DATE', 'TMAX'], \n",
    "                     parse_dates=['DATE'], index_col='DATE')\n",
    "\n",
    "TEMP_min = pd.read_csv(\"Precip_Temp/CT/STORRS.csv\", delimiter=';', usecols=['DATE', 'TMIN'], \n",
    "                     parse_dates=['DATE'], index_col='DATE')\n",
    "\n",
    "TEMP_avg = (TEMP_max['TMAX'] + TEMP_min['TMIN']) / 2\n",
    "TEMP_avg = pd.DataFrame(TEMP_avg, columns=['TEMP_avg'])\n",
    "\n",
    "\n",
    "lat =  pd.read_csv(\"Precip_Temp/CT/STORRS.csv\", delimiter=';', usecols=['LATITUDE'])\n",
    "LAT = lat.at[0, 'LATITUDE'] * np.pi / 180 # Latitude [rad]"
   ]
  },
  {
   "cell_type": "code",
   "execution_count": 4,
   "id": "e230aba3-6ba1-4972-a153-70aa47d6d274",
   "metadata": {
    "tags": []
   },
   "outputs": [
    {
     "name": "stderr",
     "output_type": "stream",
     "text": [
      "C:\\Users\\irish\\anaconda\\envs\\mude\\Lib\\site-packages\\pandas\\core\\arraylike.py:396: RuntimeWarning: invalid value encountered in sqrt\n",
      "  result = getattr(ufunc, method)(*inputs, **kwargs)\n"
     ]
    }
   ],
   "source": [
    "pet_har = pyet.hargreaves(TEMP_avg['TEMP_avg'], TEMP_max['TMAX'], TEMP_min['TMIN'], LAT, method=1)"
   ]
  },
  {
   "cell_type": "code",
   "execution_count": 6,
   "id": "24388056-a897-49d6-ab04-e6e746e305d0",
   "metadata": {
    "tags": []
   },
   "outputs": [],
   "source": [
    "pet_har.to_csv('Evap\\CT\\STORRS.csv')"
   ]
  },
  {
   "cell_type": "code",
   "execution_count": 14,
   "id": "3ce764e5-96ac-4bb1-b147-2f9950215ab8",
   "metadata": {
    "tags": []
   },
   "outputs": [],
   "source": [
    "# Read and process the date\n",
    "TEMP_max = pd.read_csv(\"Precip_Temp/CT/FALLSVILLAGE.csv\", delimiter=';', usecols=['DATE', 'TMAX'], \n",
    "                     parse_dates=['DATE'], index_col='DATE')\n",
    "\n",
    "TEMP_min = pd.read_csv(\"Precip_Temp/CT/FALLSVILLAGE.csv\", delimiter=';', usecols=['DATE', 'TMIN'], \n",
    "                     parse_dates=['DATE'], index_col='DATE')\n",
    "\n",
    "TEMP_avg = (TEMP_max['TMAX'] + TEMP_min['TMIN']) / 2\n",
    "TEMP_avg = pd.DataFrame(TEMP_avg, columns=['TEMP_avg'])\n",
    "\n",
    "\n",
    "lat =  pd.read_csv(\"Precip_Temp/CT/FALLSVILLAGE.csv\", delimiter=';', usecols=['LATITUDE'])\n",
    "LAT = lat.at[0, 'LATITUDE'] * np.pi / 180 # Latitude [rad]"
   ]
  },
  {
   "cell_type": "code",
   "execution_count": 15,
   "id": "3783617b-c463-4e3a-a8fe-1f467685bc0b",
   "metadata": {
    "tags": []
   },
   "outputs": [
    {
     "name": "stderr",
     "output_type": "stream",
     "text": [
      "C:\\Users\\irish\\anaconda\\envs\\mude\\Lib\\site-packages\\pandas\\core\\arraylike.py:396: RuntimeWarning: invalid value encountered in sqrt\n",
      "  result = getattr(ufunc, method)(*inputs, **kwargs)\n"
     ]
    }
   ],
   "source": [
    "pet_har = pyet.hargreaves(TEMP_avg['TEMP_avg'], TEMP_max['TMAX'], TEMP_min['TMIN'], LAT, method=1)"
   ]
  },
  {
   "cell_type": "code",
   "execution_count": 16,
   "id": "5a95c184-287e-4ad3-b746-7740a45d9635",
   "metadata": {
    "tags": []
   },
   "outputs": [
    {
     "data": {
      "text/plain": [
       "DATE\n",
       "1960-01-01    0.721112\n",
       "1960-01-02    1.433407\n",
       "1960-01-03    0.827441\n",
       "1960-01-04    0.562701\n",
       "1960-01-05    0.444347\n",
       "                ...   \n",
       "2014-03-26    1.846657\n",
       "2014-03-27    1.106767\n",
       "2014-03-28    2.207006\n",
       "2014-03-29    1.696070\n",
       "2014-03-30    1.928068\n",
       "Name: Hargreaves, Length: 19701, dtype: float64"
      ]
     },
     "execution_count": 16,
     "metadata": {},
     "output_type": "execute_result"
    }
   ],
   "source": [
    "pet_har"
   ]
  },
  {
   "cell_type": "code",
   "execution_count": 17,
   "id": "09b9100b-ca02-45e0-91fa-0f0489305c5c",
   "metadata": {
    "tags": []
   },
   "outputs": [],
   "source": [
    "# Read and process the date\n",
    "TEMP_max = pd.read_csv(\"Precip_Temp/CT/GROTON.csv\", delimiter=';', usecols=['DATE', 'TMAX'], \n",
    "                     parse_dates=['DATE'], index_col='DATE')\n",
    "\n",
    "TEMP_min = pd.read_csv(\"Precip_Temp/CT/GROTON.csv\", delimiter=';', usecols=['DATE', 'TMIN'], \n",
    "                     parse_dates=['DATE'], index_col='DATE')\n",
    "\n",
    "TEMP_avg = (TEMP_max['TMAX'] + TEMP_min['TMIN']) / 2\n",
    "TEMP_avg = pd.DataFrame(TEMP_avg, columns=['TEMP_avg'])\n",
    "\n",
    "\n",
    "lat =  pd.read_csv(\"Precip_Temp/CT/GROTON.csv\", delimiter=';', usecols=['LATITUDE'])\n",
    "LAT = lat.at[0, 'LATITUDE'] * np.pi / 180 # Latitude [rad]"
   ]
  },
  {
   "cell_type": "code",
   "execution_count": 18,
   "id": "73403db8-fb72-460e-8afe-d570a762a7a6",
   "metadata": {
    "tags": []
   },
   "outputs": [
    {
     "name": "stderr",
     "output_type": "stream",
     "text": [
      "C:\\Users\\irish\\anaconda\\envs\\mude\\Lib\\site-packages\\pandas\\core\\arraylike.py:396: RuntimeWarning: invalid value encountered in sqrt\n",
      "  result = getattr(ufunc, method)(*inputs, **kwargs)\n"
     ]
    }
   ],
   "source": [
    "pet_har = pyet.hargreaves(TEMP_avg['TEMP_avg'], TEMP_max['TMAX'], TEMP_min['TMIN'], LAT, method=1)"
   ]
  },
  {
   "cell_type": "code",
   "execution_count": 19,
   "id": "5b42671b-8ed6-4a45-83a3-ea09cda2586c",
   "metadata": {
    "tags": []
   },
   "outputs": [
    {
     "data": {
      "text/plain": [
       "DATE\n",
       "1960-01-01    0.525644\n",
       "1960-01-02    0.935453\n",
       "1960-01-03    0.851513\n",
       "1960-01-04    0.740356\n",
       "1960-01-05    0.622974\n",
       "                ...   \n",
       "2024-09-26    2.755312\n",
       "2024-09-27    2.787206\n",
       "2024-09-28    2.721400\n",
       "2024-09-29    2.571789\n",
       "2024-09-30    2.364858\n",
       "Name: Hargreaves, Length: 21144, dtype: float64"
      ]
     },
     "execution_count": 19,
     "metadata": {},
     "output_type": "execute_result"
    }
   ],
   "source": [
    "pet_har"
   ]
  },
  {
   "cell_type": "code",
   "execution_count": 20,
   "id": "b9ffdcff-da34-48bb-b6d7-4258b07bc40b",
   "metadata": {
    "tags": []
   },
   "outputs": [],
   "source": [
    "pet_har.to_csv('Evap\\CT\\GROTON.csv')"
   ]
  },
  {
   "cell_type": "code",
   "execution_count": null,
   "id": "6beb8c1b-1225-4a7b-a099-0b0367a983e3",
   "metadata": {},
   "outputs": [],
   "source": [
    "# Read and process the date\n",
    "TEMP_max = pd.read_csv(\"Prec_temp/3973485.csv\", delimiter=',', usecols=['DATE', 'TMAX'], \n",
    "                     parse_dates=['DATE'], index_col='DATE')\n",
    "\n",
    "TEMP_min = pd.read_csv(\"Precip_Temp/CT/GROTON.csv\", delimiter=';', usecols=['DATE', 'TMIN'], \n",
    "                     parse_dates=['DATE'], index_col='DATE')\n",
    "\n",
    "TEMP_avg = (TEMP_max['TMAX'] + TEMP_min['TMIN']) / 2\n",
    "TEMP_avg = pd.DataFrame(TEMP_avg, columns=['TEMP_avg'])\n",
    "\n",
    "\n",
    "lat =  pd.read_csv(\"Prec_temp/3973485.csv\", delimiter=',', usecols=['LATITUDE'])\n",
    "LAT = lat.at[0, 'LATITUDE'] * np.pi / 180 # Latitude [rad]"
   ]
  },
  {
   "cell_type": "code",
   "execution_count": 3,
   "id": "4bf1ce19-92f6-406f-8a0c-269a627143e4",
   "metadata": {},
   "outputs": [],
   "source": [
    "# Read and process the date\n",
    "TEMP_max = pd.read_csv(\"Prec_temp/3973485.csv\", delimiter=',', usecols=['DATE', 'TMAX'], \n",
    "                     parse_dates=['DATE'], index_col='DATE')\n",
    "\n",
    "TEMP_min = pd.read_csv(\"Prec_temp/3973485.csv\", delimiter=',', usecols=['DATE', 'TMIN'], \n",
    "                     parse_dates=['DATE'], index_col='DATE')\n",
    "\n",
    "TEMP_avg = (TEMP_max['TMAX'] + TEMP_min['TMIN']) / 2\n",
    "TEMP_avg = pd.DataFrame(TEMP_avg, columns=['TEMP_avg'])\n",
    "\n",
    "\n",
    "lat =  pd.read_csv(\"Prec_temp/3973485.csv\", delimiter=',', usecols=['LATITUDE'])\n",
    "LAT = lat.at[0, 'LATITUDE'] * np.pi / 180 # Latitude [rad]"
   ]
  },
  {
   "cell_type": "code",
   "execution_count": 4,
   "id": "9c55e439-648b-4558-b71f-a9bda3d9a72e",
   "metadata": {},
   "outputs": [
    {
     "name": "stderr",
     "output_type": "stream",
     "text": [
      "C:\\Users\\irish\\anaconda\\envs\\mude\\Lib\\site-packages\\pandas\\core\\arraylike.py:399: RuntimeWarning: invalid value encountered in sqrt\n",
      "  result = getattr(ufunc, method)(*inputs, **kwargs)\n"
     ]
    }
   ],
   "source": [
    "pet_har = pyet.hargreaves(TEMP_avg['TEMP_avg'], TEMP_max['TMAX'], TEMP_min['TMIN'], LAT, method=1)"
   ]
  },
  {
   "cell_type": "code",
   "execution_count": 5,
   "id": "a609d87c-4a3e-4230-a680-88ac423f496e",
   "metadata": {},
   "outputs": [
    {
     "data": {
      "text/plain": [
       "DATE\n",
       "1941-03-01    1.550067\n",
       "1941-03-02    1.449189\n",
       "1941-03-03    1.545745\n",
       "1941-03-04    1.562620\n",
       "1941-03-05    1.786522\n",
       "                ...   \n",
       "2025-03-17    1.558048\n",
       "2025-03-18    1.462095\n",
       "2025-03-19    1.465568\n",
       "2025-03-24    1.870683\n",
       "2025-03-25    2.128988\n",
       "Name: Hargreaves, Length: 29102, dtype: float64"
      ]
     },
     "execution_count": 5,
     "metadata": {},
     "output_type": "execute_result"
    }
   ],
   "source": [
    "pet_har"
   ]
  },
  {
   "cell_type": "code",
   "execution_count": 6,
   "id": "e361812e-b828-4f17-9bd8-244e534b22b9",
   "metadata": {},
   "outputs": [],
   "source": [
    "pet_har.to_csv('Evap\\Seattle.csv')"
   ]
  },
  {
   "cell_type": "code",
   "execution_count": 3,
   "id": "b567fc0f-a9ef-47f8-bad0-a5d287bcb78f",
   "metadata": {},
   "outputs": [],
   "source": [
    "# Read and process the date\n",
    "TEMP_max = pd.read_csv(\"Prec_temp/Huron_3977587.csv\", delimiter=',', usecols=['DATE', 'TMAX'], \n",
    "                     parse_dates=['DATE'], index_col='DATE')\n",
    "\n",
    "TEMP_min = pd.read_csv(\"Prec_temp/Huron_3977587.csv\", delimiter=',', usecols=['DATE', 'TMIN'], \n",
    "                     parse_dates=['DATE'], index_col='DATE')\n",
    "\n",
    "TEMP_avg = (TEMP_max['TMAX'] + TEMP_min['TMIN']) / 2\n",
    "TEMP_avg = pd.DataFrame(TEMP_avg, columns=['TEMP_avg'])\n",
    "\n",
    "\n",
    "lat =  pd.read_csv(\"Prec_temp/Huron_3977587.csv\", delimiter=',', usecols=['LATITUDE'])\n",
    "LAT = lat.at[0, 'LATITUDE'] * np.pi / 180 # Latitude [rad]"
   ]
  },
  {
   "cell_type": "code",
   "execution_count": 4,
   "id": "97cb116b-40fa-4596-971e-7fd34d22a121",
   "metadata": {
    "tags": []
   },
   "outputs": [
    {
     "ename": "NameError",
     "evalue": "name 'pet_har' is not defined",
     "output_type": "error",
     "traceback": [
      "\u001b[1;31m---------------------------------------------------------------------------\u001b[0m",
      "\u001b[1;31mNameError\u001b[0m                                 Traceback (most recent call last)",
      "Cell \u001b[1;32mIn[4], line 1\u001b[0m\n\u001b[1;32m----> 1\u001b[0m pet_har\n",
      "\u001b[1;31mNameError\u001b[0m: name 'pet_har' is not defined"
     ]
    }
   ],
   "source": [
    "pet_har"
   ]
  },
  {
   "cell_type": "code",
   "execution_count": 5,
   "id": "383cf825-6498-45c7-9fb2-f5aaaabd9996",
   "metadata": {
    "tags": []
   },
   "outputs": [],
   "source": [
    "pet_har = pyet.hargreaves(TEMP_avg['TEMP_avg'], TEMP_max['TMAX'], TEMP_min['TMIN'], LAT, method=1)"
   ]
  },
  {
   "cell_type": "code",
   "execution_count": 6,
   "id": "b9694370-efeb-4a72-b73f-bf167bd132da",
   "metadata": {
    "tags": []
   },
   "outputs": [
    {
     "data": {
      "text/plain": [
       "DATE\n",
       "1910-01-01    0.522032\n",
       "1910-01-02    0.073593\n",
       "1910-01-03    0.000000\n",
       "1910-01-04    0.000000\n",
       "1910-01-05    0.000000\n",
       "                ...   \n",
       "2025-03-22    6.335642\n",
       "2025-03-23    1.655226\n",
       "2025-03-24    3.106093\n",
       "2025-03-25    4.539319\n",
       "2025-03-26    4.611841\n",
       "Name: Hargreaves, Length: 42084, dtype: float64"
      ]
     },
     "execution_count": 6,
     "metadata": {},
     "output_type": "execute_result"
    }
   ],
   "source": [
    "pet_har"
   ]
  },
  {
   "cell_type": "code",
   "execution_count": 7,
   "id": "7e62072f-e853-4484-9911-25c40054bd7f",
   "metadata": {
    "tags": []
   },
   "outputs": [],
   "source": [
    "pet_har.to_csv('Evap\\Huron.csv')"
   ]
  },
  {
   "cell_type": "code",
   "execution_count": 8,
   "id": "3472cd3a-bb28-4c44-8d8c-522fdfebfbbe",
   "metadata": {
    "tags": []
   },
   "outputs": [],
   "source": [
    "prec = pd.read_csv('Prec_temp/Huron_3977587.csv', delimiter=',', index_col=0, skiprows=0, usecols=[5, 10], \n",
    "        parse_dates=True\n",
    "    ).squeeze()\n",
    "pd.to_datetime(prec.index)\n",
    "PRCP = prec.sort_index()"
   ]
  },
  {
   "cell_type": "code",
   "execution_count": 9,
   "id": "0e64b892-5c9e-4c89-8d7b-31ee1288ecbe",
   "metadata": {
    "tags": []
   },
   "outputs": [
    {
     "data": {
      "text/plain": [
       "[<matplotlib.lines.Line2D at 0x1eb35658090>]"
      ]
     },
     "execution_count": 9,
     "metadata": {},
     "output_type": "execute_result"
    },
    {
     "data": {
      "image/png": "[encoded data removed]",
      "text/plain": [
       "<Figure size 640x480 with 1 Axes>"
      ]
     },
     "metadata": {},
     "output_type": "display_data"
    }
   ],
   "source": [
    "plt.plot(PRCP)"
   ]
  },
  {
   "cell_type": "code",
   "execution_count": 3,
   "id": "76599a93-010f-40ff-8c3b-a1525271175e",
   "metadata": {},
   "outputs": [],
   "source": [
    "# Read and process the date\n",
    "TEMP_max = pd.read_csv(\"Prec_temp/PipeSpring_3975404.csv\", delimiter=',', usecols=['DATE', 'TMAX'], \n",
    "                     parse_dates=['DATE'], index_col='DATE')\n",
    "\n",
    "TEMP_min = pd.read_csv(\"Prec_temp/PipeSpring_3975404.csv\", delimiter=',', usecols=['DATE', 'TMIN'], \n",
    "                     parse_dates=['DATE'], index_col='DATE')\n",
    "\n",
    "TEMP_avg = (TEMP_max['TMAX'] + TEMP_min['TMIN']) / 2\n",
    "TEMP_avg = pd.DataFrame(TEMP_avg, columns=['TEMP_avg'])\n",
    "\n",
    "\n",
    "lat =  pd.read_csv(\"Prec_temp/PipeSpring_3975404.csv\", delimiter=',', usecols=['LATITUDE'])\n",
    "LAT = lat.at[0, 'LATITUDE'] * np.pi / 180 # Latitude [rad]"
   ]
  },
  {
   "cell_type": "code",
   "execution_count": 4,
   "id": "ceba1bc6-182e-4bed-bacc-29c54432ba79",
   "metadata": {
    "tags": []
   },
   "outputs": [
    {
     "name": "stderr",
     "output_type": "stream",
     "text": [
      "C:\\Users\\irish\\anaconda\\envs\\mude\\Lib\\site-packages\\pandas\\core\\arraylike.py:396: RuntimeWarning: invalid value encountered in sqrt\n",
      "  result = getattr(ufunc, method)(*inputs, **kwargs)\n"
     ]
    }
   ],
   "source": [
    "pet_har = pyet.hargreaves(TEMP_avg['TEMP_avg'], TEMP_max['TMAX'], TEMP_min['TMIN'], LAT, method=1)"
   ]
  },
  {
   "cell_type": "code",
   "execution_count": 5,
   "id": "e7735176-2d3a-44f6-bb94-f67ceafa9dfa",
   "metadata": {
    "tags": []
   },
   "outputs": [
    {
     "data": {
      "text/plain": [
       "DATE\n",
       "1963-06-01         NaN\n",
       "1963-06-02         NaN\n",
       "1963-06-03         NaN\n",
       "1963-06-04         NaN\n",
       "1963-06-05         NaN\n",
       "                ...   \n",
       "2025-03-04    1.400183\n",
       "2025-03-05    3.027931\n",
       "2025-03-06    2.707983\n",
       "2025-03-12    4.115601\n",
       "2025-03-13         NaN\n",
       "Name: Hargreaves, Length: 22221, dtype: float64"
      ]
     },
     "execution_count": 5,
     "metadata": {},
     "output_type": "execute_result"
    }
   ],
   "source": [
    "pet_har"
   ]
  },
  {
   "cell_type": "code",
   "execution_count": 6,
   "id": "11971153-7eed-4069-9abe-a49930441dd5",
   "metadata": {
    "tags": []
   },
   "outputs": [
    {
     "data": {
      "text/plain": [
       "[<matplotlib.lines.Line2D at 0x1f41bee8b90>]"
      ]
     },
     "execution_count": 6,
     "metadata": {},
     "output_type": "execute_result"
    },
    {
     "data": {
      "image/png": "[encoded data removed]",
      "text/plain": [
       "<Figure size 640x480 with 1 Axes>"
      ]
     },
     "metadata": {},
     "output_type": "display_data"
    }
   ],
   "source": [
    "plt.plot(pet_har)"
   ]
  },
  {
   "cell_type": "code",
   "execution_count": 7,
   "id": "bd8afbdf-a693-4898-b887-31189fefa23c",
   "metadata": {
    "tags": []
   },
   "outputs": [],
   "source": [
    "pet_har.to_csv('Evap\\PipeSpring.csv')"
   ]
  },
  {
   "cell_type": "code",
   "execution_count": 8,
   "id": "2d9c4646-ff67-4242-9e2d-0f557f14cdf6",
   "metadata": {
    "tags": []
   },
   "outputs": [],
   "source": [
    "# Read and process the date\n",
    "TEMP_max = pd.read_csv(\"Prec_temp/Tallahasse_3976539.csv\", delimiter=',', usecols=['DATE', 'TMAX'], \n",
    "                     parse_dates=['DATE'], index_col='DATE')\n",
    "\n",
    "TEMP_min = pd.read_csv(\"Prec_temp/Tallahasse_3976539.csv\", delimiter=',', usecols=['DATE', 'TMIN'], \n",
    "                     parse_dates=['DATE'], index_col='DATE')\n",
    "\n",
    "TEMP_avg = (TEMP_max['TMAX'] + TEMP_min['TMIN']) / 2\n",
    "TEMP_avg = pd.DataFrame(TEMP_avg, columns=['TEMP_avg'])\n",
    "\n",
    "\n",
    "lat =  pd.read_csv(\"Prec_temp/Tallahasse_3976539.csv\", delimiter=',', usecols=['LATITUDE'])\n",
    "LAT = lat.at[0, 'LATITUDE'] * np.pi / 180 # Latitude [rad]"
   ]
  },
  {
   "cell_type": "code",
   "execution_count": 9,
   "id": "a7739131-b773-41f1-999f-4526047b84cd",
   "metadata": {
    "tags": []
   },
   "outputs": [],
   "source": [
    "pet_har = pyet.hargreaves(TEMP_avg['TEMP_avg'], TEMP_max['TMAX'], TEMP_min['TMIN'], LAT, method=1)"
   ]
  },
  {
   "cell_type": "code",
   "execution_count": 11,
   "id": "7935ebd5-9601-4bc2-bcb6-93f1f674a44e",
   "metadata": {
    "tags": []
   },
   "outputs": [
    {
     "data": {
      "text/plain": [
       "[<matplotlib.lines.Line2D at 0x1f41bec6f50>]"
      ]
     },
     "execution_count": 11,
     "metadata": {},
     "output_type": "execute_result"
    },
    {
     "data": {
      "image/png": "[encoded data removed]",
      "text/plain": [
       "<Figure size 640x480 with 1 Axes>"
      ]
     },
     "metadata": {},
     "output_type": "display_data"
    }
   ],
   "source": [
    "plt.plot(pet_har)"
   ]
  },
  {
   "cell_type": "code",
   "execution_count": 12,
   "id": "1f3db245-6f55-4812-adf1-aef1ba6a775b",
   "metadata": {
    "tags": []
   },
   "outputs": [],
   "source": [
    "pet_har.to_csv('Evap\\Tallahasse.csv')"
   ]
  },
  {
   "cell_type": "code",
   "execution_count": 2,
   "id": "a212d056-4c11-4b62-b76d-ffed65533b9d",
   "metadata": {},
   "outputs": [
    {
     "ename": "ValueError",
     "evalue": "Usecols do not match columns, columns expected but not found: ['TMAX', 'DATE']",
     "output_type": "error",
     "traceback": [
      "\u001b[1;31m---------------------------------------------------------------------------\u001b[0m",
      "\u001b[1;31mValueError\u001b[0m                                Traceback (most recent call last)",
      "Cell \u001b[1;32mIn[2], line 2\u001b[0m\n\u001b[0;32m      1\u001b[0m \u001b[38;5;66;03m# Read and process the date\u001b[39;00m\n\u001b[1;32m----> 2\u001b[0m TEMP_max \u001b[38;5;241m=\u001b[39m pd\u001b[38;5;241m.\u001b[39mread_csv(\u001b[38;5;124m\"\u001b[39m\u001b[38;5;124mPrec_temp/Atlanta_3998160.csv\u001b[39m\u001b[38;5;124m\"\u001b[39m, delimiter\u001b[38;5;241m=\u001b[39m\u001b[38;5;124m'\u001b[39m\u001b[38;5;124m,\u001b[39m\u001b[38;5;124m'\u001b[39m, usecols\u001b[38;5;241m=\u001b[39m[\u001b[38;5;124m'\u001b[39m\u001b[38;5;124mDATE\u001b[39m\u001b[38;5;124m'\u001b[39m, \u001b[38;5;124m'\u001b[39m\u001b[38;5;124mTMAX\u001b[39m\u001b[38;5;124m'\u001b[39m], \n\u001b[0;32m      3\u001b[0m                      parse_dates\u001b[38;5;241m=\u001b[39m[\u001b[38;5;124m'\u001b[39m\u001b[38;5;124mDATE\u001b[39m\u001b[38;5;124m'\u001b[39m], index_col\u001b[38;5;241m=\u001b[39m\u001b[38;5;124m'\u001b[39m\u001b[38;5;124mDATE\u001b[39m\u001b[38;5;124m'\u001b[39m)\n\u001b[0;32m      5\u001b[0m TEMP_min \u001b[38;5;241m=\u001b[39m pd\u001b[38;5;241m.\u001b[39mread_csv(\u001b[38;5;124m\"\u001b[39m\u001b[38;5;124mPrec_temp/Atlanta_3998160.csv\u001b[39m\u001b[38;5;124m\"\u001b[39m, delimiter\u001b[38;5;241m=\u001b[39m\u001b[38;5;124m'\u001b[39m\u001b[38;5;124m,\u001b[39m\u001b[38;5;124m'\u001b[39m, usecols\u001b[38;5;241m=\u001b[39m[\u001b[38;5;124m'\u001b[39m\u001b[38;5;124mDATE\u001b[39m\u001b[38;5;124m'\u001b[39m, \u001b[38;5;124m'\u001b[39m\u001b[38;5;124mTMIN\u001b[39m\u001b[38;5;124m'\u001b[39m], \n\u001b[0;32m      6\u001b[0m                      parse_dates\u001b[38;5;241m=\u001b[39m[\u001b[38;5;124m'\u001b[39m\u001b[38;5;124mDATE\u001b[39m\u001b[38;5;124m'\u001b[39m], index_col\u001b[38;5;241m=\u001b[39m\u001b[38;5;124m'\u001b[39m\u001b[38;5;124mDATE\u001b[39m\u001b[38;5;124m'\u001b[39m)\n\u001b[0;32m      8\u001b[0m TEMP_avg \u001b[38;5;241m=\u001b[39m (TEMP_max[\u001b[38;5;124m'\u001b[39m\u001b[38;5;124mTMAX\u001b[39m\u001b[38;5;124m'\u001b[39m] \u001b[38;5;241m+\u001b[39m TEMP_min[\u001b[38;5;124m'\u001b[39m\u001b[38;5;124mTMIN\u001b[39m\u001b[38;5;124m'\u001b[39m]) \u001b[38;5;241m/\u001b[39m \u001b[38;5;241m2\u001b[39m\n",
      "File \u001b[1;32m~\\anaconda\\envs\\mude\\Lib\\site-packages\\pandas\\io\\parsers\\readers.py:912\u001b[0m, in \u001b[0;36mread_csv\u001b[1;34m(filepath_or_buffer, sep, delimiter, header, names, index_col, usecols, dtype, engine, converters, true_values, false_values, skipinitialspace, skiprows, skipfooter, nrows, na_values, keep_default_na, na_filter, verbose, skip_blank_lines, parse_dates, infer_datetime_format, keep_date_col, date_parser, date_format, dayfirst, cache_dates, iterator, chunksize, compression, thousands, decimal, lineterminator, quotechar, quoting, doublequote, escapechar, comment, encoding, encoding_errors, dialect, on_bad_lines, delim_whitespace, low_memory, memory_map, float_precision, storage_options, dtype_backend)\u001b[0m\n\u001b[0;32m    899\u001b[0m kwds_defaults \u001b[38;5;241m=\u001b[39m _refine_defaults_read(\n\u001b[0;32m    900\u001b[0m     dialect,\n\u001b[0;32m    901\u001b[0m     delimiter,\n\u001b[1;32m   (...)\u001b[0m\n\u001b[0;32m    908\u001b[0m     dtype_backend\u001b[38;5;241m=\u001b[39mdtype_backend,\n\u001b[0;32m    909\u001b[0m )\n\u001b[0;32m    910\u001b[0m kwds\u001b[38;5;241m.\u001b[39mupdate(kwds_defaults)\n\u001b[1;32m--> 912\u001b[0m \u001b[38;5;28;01mreturn\u001b[39;00m _read(filepath_or_buffer, kwds)\n",
      "File \u001b[1;32m~\\anaconda\\envs\\mude\\Lib\\site-packages\\pandas\\io\\parsers\\readers.py:577\u001b[0m, in \u001b[0;36m_read\u001b[1;34m(filepath_or_buffer, kwds)\u001b[0m\n\u001b[0;32m    574\u001b[0m _validate_names(kwds\u001b[38;5;241m.\u001b[39mget(\u001b[38;5;124m\"\u001b[39m\u001b[38;5;124mnames\u001b[39m\u001b[38;5;124m\"\u001b[39m, \u001b[38;5;28;01mNone\u001b[39;00m))\n\u001b[0;32m    576\u001b[0m \u001b[38;5;66;03m# Create the parser.\u001b[39;00m\n\u001b[1;32m--> 577\u001b[0m parser \u001b[38;5;241m=\u001b[39m TextFileReader(filepath_or_buffer, \u001b[38;5;241m*\u001b[39m\u001b[38;5;241m*\u001b[39mkwds)\n\u001b[0;32m    579\u001b[0m \u001b[38;5;28;01mif\u001b[39;00m chunksize \u001b[38;5;129;01mor\u001b[39;00m iterator:\n\u001b[0;32m    580\u001b[0m     \u001b[38;5;28;01mreturn\u001b[39;00m parser\n",
      "File \u001b[1;32m~\\anaconda\\envs\\mude\\Lib\\site-packages\\pandas\\io\\parsers\\readers.py:1407\u001b[0m, in \u001b[0;36mTextFileReader.__init__\u001b[1;34m(self, f, engine, **kwds)\u001b[0m\n\u001b[0;32m   1404\u001b[0m     \u001b[38;5;28mself\u001b[39m\u001b[38;5;241m.\u001b[39moptions[\u001b[38;5;124m\"\u001b[39m\u001b[38;5;124mhas_index_names\u001b[39m\u001b[38;5;124m\"\u001b[39m] \u001b[38;5;241m=\u001b[39m kwds[\u001b[38;5;124m\"\u001b[39m\u001b[38;5;124mhas_index_names\u001b[39m\u001b[38;5;124m\"\u001b[39m]\n\u001b[0;32m   1406\u001b[0m \u001b[38;5;28mself\u001b[39m\u001b[38;5;241m.\u001b[39mhandles: IOHandles \u001b[38;5;241m|\u001b[39m \u001b[38;5;28;01mNone\u001b[39;00m \u001b[38;5;241m=\u001b[39m \u001b[38;5;28;01mNone\u001b[39;00m\n\u001b[1;32m-> 1407\u001b[0m \u001b[38;5;28mself\u001b[39m\u001b[38;5;241m.\u001b[39m_engine \u001b[38;5;241m=\u001b[39m \u001b[38;5;28mself\u001b[39m\u001b[38;5;241m.\u001b[39m_make_engine(f, \u001b[38;5;28mself\u001b[39m\u001b[38;5;241m.\u001b[39mengine)\n",
      "File \u001b[1;32m~\\anaconda\\envs\\mude\\Lib\\site-packages\\pandas\\io\\parsers\\readers.py:1679\u001b[0m, in \u001b[0;36mTextFileReader._make_engine\u001b[1;34m(self, f, engine)\u001b[0m\n\u001b[0;32m   1676\u001b[0m     \u001b[38;5;28;01mraise\u001b[39;00m \u001b[38;5;167;01mValueError\u001b[39;00m(msg)\n\u001b[0;32m   1678\u001b[0m \u001b[38;5;28;01mtry\u001b[39;00m:\n\u001b[1;32m-> 1679\u001b[0m     \u001b[38;5;28;01mreturn\u001b[39;00m mapping[engine](f, \u001b[38;5;241m*\u001b[39m\u001b[38;5;241m*\u001b[39m\u001b[38;5;28mself\u001b[39m\u001b[38;5;241m.\u001b[39moptions)\n\u001b[0;32m   1680\u001b[0m \u001b[38;5;28;01mexcept\u001b[39;00m \u001b[38;5;167;01mException\u001b[39;00m:\n\u001b[0;32m   1681\u001b[0m     \u001b[38;5;28;01mif\u001b[39;00m \u001b[38;5;28mself\u001b[39m\u001b[38;5;241m.\u001b[39mhandles \u001b[38;5;129;01mis\u001b[39;00m \u001b[38;5;129;01mnot\u001b[39;00m \u001b[38;5;28;01mNone\u001b[39;00m:\n",
      "File \u001b[1;32m~\\anaconda\\envs\\mude\\Lib\\site-packages\\pandas\\io\\parsers\\c_parser_wrapper.py:140\u001b[0m, in \u001b[0;36mCParserWrapper.__init__\u001b[1;34m(self, src, **kwds)\u001b[0m\n\u001b[0;32m    136\u001b[0m \u001b[38;5;28;01massert\u001b[39;00m \u001b[38;5;28mself\u001b[39m\u001b[38;5;241m.\u001b[39morig_names \u001b[38;5;129;01mis\u001b[39;00m \u001b[38;5;129;01mnot\u001b[39;00m \u001b[38;5;28;01mNone\u001b[39;00m\n\u001b[0;32m    137\u001b[0m \u001b[38;5;28;01mif\u001b[39;00m \u001b[38;5;28mself\u001b[39m\u001b[38;5;241m.\u001b[39musecols_dtype \u001b[38;5;241m==\u001b[39m \u001b[38;5;124m\"\u001b[39m\u001b[38;5;124mstring\u001b[39m\u001b[38;5;124m\"\u001b[39m \u001b[38;5;129;01mand\u001b[39;00m \u001b[38;5;129;01mnot\u001b[39;00m \u001b[38;5;28mset\u001b[39m(usecols)\u001b[38;5;241m.\u001b[39missubset(\n\u001b[0;32m    138\u001b[0m     \u001b[38;5;28mself\u001b[39m\u001b[38;5;241m.\u001b[39morig_names\n\u001b[0;32m    139\u001b[0m ):\n\u001b[1;32m--> 140\u001b[0m     \u001b[38;5;28mself\u001b[39m\u001b[38;5;241m.\u001b[39m_validate_usecols_names(usecols, \u001b[38;5;28mself\u001b[39m\u001b[38;5;241m.\u001b[39morig_names)\n\u001b[0;32m    142\u001b[0m \u001b[38;5;66;03m# error: Cannot determine type of 'names'\u001b[39;00m\n\u001b[0;32m    143\u001b[0m \u001b[38;5;28;01mif\u001b[39;00m \u001b[38;5;28mlen\u001b[39m(\u001b[38;5;28mself\u001b[39m\u001b[38;5;241m.\u001b[39mnames) \u001b[38;5;241m>\u001b[39m \u001b[38;5;28mlen\u001b[39m(usecols):  \u001b[38;5;66;03m# type: ignore[has-type]\u001b[39;00m\n\u001b[0;32m    144\u001b[0m     \u001b[38;5;66;03m# error: Cannot determine type of 'names'\u001b[39;00m\n",
      "File \u001b[1;32m~\\anaconda\\envs\\mude\\Lib\\site-packages\\pandas\\io\\parsers\\base_parser.py:959\u001b[0m, in \u001b[0;36mParserBase._validate_usecols_names\u001b[1;34m(self, usecols, names)\u001b[0m\n\u001b[0;32m    957\u001b[0m missing \u001b[38;5;241m=\u001b[39m [c \u001b[38;5;28;01mfor\u001b[39;00m c \u001b[38;5;129;01min\u001b[39;00m usecols \u001b[38;5;28;01mif\u001b[39;00m c \u001b[38;5;129;01mnot\u001b[39;00m \u001b[38;5;129;01min\u001b[39;00m names]\n\u001b[0;32m    958\u001b[0m \u001b[38;5;28;01mif\u001b[39;00m \u001b[38;5;28mlen\u001b[39m(missing) \u001b[38;5;241m>\u001b[39m \u001b[38;5;241m0\u001b[39m:\n\u001b[1;32m--> 959\u001b[0m     \u001b[38;5;28;01mraise\u001b[39;00m \u001b[38;5;167;01mValueError\u001b[39;00m(\n\u001b[0;32m    960\u001b[0m         \u001b[38;5;124mf\u001b[39m\u001b[38;5;124m\"\u001b[39m\u001b[38;5;124mUsecols do not match columns, columns expected but not found: \u001b[39m\u001b[38;5;124m\"\u001b[39m\n\u001b[0;32m    961\u001b[0m         \u001b[38;5;124mf\u001b[39m\u001b[38;5;124m\"\u001b[39m\u001b[38;5;132;01m{\u001b[39;00mmissing\u001b[38;5;132;01m}\u001b[39;00m\u001b[38;5;124m\"\u001b[39m\n\u001b[0;32m    962\u001b[0m     )\n\u001b[0;32m    964\u001b[0m \u001b[38;5;28;01mreturn\u001b[39;00m usecols\n",
      "\u001b[1;31mValueError\u001b[0m: Usecols do not match columns, columns expected but not found: ['TMAX', 'DATE']"
     ]
    }
   ],
   "source": [
    "# Read and process the date\n",
    "TEMP_max = pd.read_csv(\"Prec_temp/Atlanta_3998160.csv\", , usecols=['DATE', 'TMAX'], \n",
    "                     parse_dates=['DATE'], index_col='DATE')\n",
    "\n",
    "TEMP_min = pd.read_csv(\"Prec_temp/Atlanta_3998160.csv\", delimiter=',', usecols=['DATE', 'TMIN'], \n",
    "                     parse_dates=['DATE'], index_col='DATE')\n",
    "\n",
    "TEMP_avg = (TEMP_max['TMAX'] + TEMP_min['TMIN']) / 2\n",
    "TEMP_avg = pd.DataFrame(TEMP_avg, columns=['TEMP_avg'])\n",
    "\n",
    "\n",
    "lat =  pd.read_csv(\"Prec_temp/Atlanta_3998160.csv\", delimiter=',', usecols=['LATITUDE'])\n",
    "LAT = lat.at[0, 'LATITUDE'] * np.pi / 180 # Latitude [rad]"
   ]
  },
  {
   "cell_type": "code",
   "execution_count": null,
   "id": "917ad96a-a9b1-4d1b-8df0-0b1fe35136c6",
   "metadata": {},
   "outputs": [],
   "source": []
  },
  {
   "cell_type": "code",
   "execution_count": 4,
   "id": "f8d7d517-a50a-4297-82ba-70940056e64f",
   "metadata": {},
   "outputs": [
    {
     "name": "stderr",
     "output_type": "stream",
     "text": [
      "C:\\Users\\irish\\AppData\\Local\\Temp\\ipykernel_1656\\512167271.py:2: UserWarning: Parsing dates in %d-%m-%Y format when dayfirst=False (the default) was specified. Pass `dayfirst=True` or specify a format to silence this warning.\n",
      "  TEMP_max = pd.read_csv(\"Prec_temp/SanFrancisco_4008636.csv\", delimiter=',', usecols=['DATE', 'TMAX'],\n",
      "C:\\Users\\irish\\AppData\\Local\\Temp\\ipykernel_1656\\512167271.py:5: UserWarning: Parsing dates in %d-%m-%Y format when dayfirst=False (the default) was specified. Pass `dayfirst=True` or specify a format to silence this warning.\n",
      "  TEMP_min = pd.read_csv(\"Prec_temp/SanFrancisco_4008636.csv\", delimiter=',', usecols=['DATE', 'TMIN'],\n"
     ]
    }
   ],
   "source": [
    "# Read and process the date\n",
    "TEMP_max = pd.read_csv(\"Prec_temp/SanFrancisco_4008636.csv\", delimiter=',', usecols=['DATE', 'TMAX'], \n",
    "                     parse_dates=['DATE'], index_col='DATE')\n",
    "\n",
    "TEMP_min = pd.read_csv(\"Prec_temp/SanFrancisco_4008636.csv\", delimiter=',', usecols=['DATE', 'TMIN'], \n",
    "                     parse_dates=['DATE'], index_col='DATE')\n",
    "\n",
    "TEMP_avg = (TEMP_max['TMAX'] + TEMP_min['TMIN']) / 2\n",
    "TEMP_avg = pd.DataFrame(TEMP_avg, columns=['TEMP_avg'])\n",
    "\n",
    "\n",
    "lat =  pd.read_csv(\"Prec_temp/SanFrancisco_4008636.csv\", delimiter=',', usecols=['LATITUDE'])\n",
    "LAT = lat.at[0, 'LATITUDE'] * np.pi / 180 # Latitude [rad]"
   ]
  },
  {
   "cell_type": "code",
   "execution_count": 5,
   "id": "1df4ab3c-78cf-40b7-a0c3-e806d64c5d34",
   "metadata": {
    "tags": []
   },
   "outputs": [],
   "source": [
    "pet_har = pyet.hargreaves(TEMP_avg['TEMP_avg'], TEMP_max['TMAX'], TEMP_min['TMIN'], LAT, method=1)"
   ]
  },
  {
   "cell_type": "code",
   "execution_count": 6,
   "id": "6da52985-2f5b-4975-86f3-5399229c87a1",
   "metadata": {
    "tags": []
   },
   "outputs": [
    {
     "data": {
      "text/plain": [
       "[<matplotlib.lines.Line2D at 0x19b4a6ed310>]"
      ]
     },
     "execution_count": 6,
     "metadata": {},
     "output_type": "execute_result"
    },
    {
     "data": {
      "image/png": "[encoded data removed]",
      "text/plain": [
       "<Figure size 640x480 with 1 Axes>"
      ]
     },
     "metadata": {},
     "output_type": "display_data"
    }
   ],
   "source": [
    "plt.plot(pet_har)"
   ]
  },
  {
   "cell_type": "code",
   "execution_count": 7,
   "id": "d1b098bc-b746-4c9d-9fdb-333d7d946728",
   "metadata": {
    "tags": []
   },
   "outputs": [],
   "source": [
    "pet_har.to_csv('Evap\\SanFrancisco.csv')"
   ]
  },
  {
   "cell_type": "code",
   "execution_count": 16,
   "id": "ca7dd374-09c9-47ad-9724-65387f450d42",
   "metadata": {
    "tags": []
   },
   "outputs": [
    {
     "name": "stderr",
     "output_type": "stream",
     "text": [
      "C:\\Users\\irish\\AppData\\Local\\Temp\\ipykernel_12248\\1619789189.py:2: UserWarning: Parsing dates in %d-%m-%Y format when dayfirst=False (the default) was specified. Pass `dayfirst=True` or specify a format to silence this warning.\n",
      "  TEMP_max = pd.read_csv(\"Prec_temp/StLouis_4008631.csv\", delimiter=',', usecols=['DATE', 'TMAX'],\n",
      "C:\\Users\\irish\\AppData\\Local\\Temp\\ipykernel_12248\\1619789189.py:5: UserWarning: Parsing dates in %d-%m-%Y format when dayfirst=False (the default) was specified. Pass `dayfirst=True` or specify a format to silence this warning.\n",
      "  TEMP_min = pd.read_csv(\"Prec_temp/StLouis_4008631.csv\", delimiter=',', usecols=['DATE', 'TMIN'],\n"
     ]
    }
   ],
   "source": [
    "# Read and process the date\n",
    "TEMP_max = pd.read_csv(\"Prec_temp/StLouis_4008631.csv\", delimiter=',', usecols=['DATE', 'TMAX'], \n",
    "                     parse_dates=['DATE'], index_col='DATE')\n",
    "\n",
    "TEMP_min = pd.read_csv(\"Prec_temp/StLouis_4008631.csv\", delimiter=',', usecols=['DATE', 'TMIN'], \n",
    "                     parse_dates=['DATE'], index_col='DATE')\n",
    "\n",
    "TEMP_avg = (TEMP_max['TMAX'] + TEMP_min['TMIN']) / 2\n",
    "TEMP_avg = pd.DataFrame(TEMP_avg, columns=['TEMP_avg'])\n",
    "\n",
    "\n",
    "lat =  pd.read_csv(\"Prec_temp/StLouis_4008631.csv\", delimiter=',', usecols=['LATITUDE'])\n",
    "LAT = lat.at[0, 'LATITUDE'] * np.pi / 180 # Latitude [rad]"
   ]
  },
  {
   "cell_type": "code",
   "execution_count": 17,
   "id": "a31c888d-be4f-49a1-9c36-0f9fbaf0e076",
   "metadata": {
    "tags": []
   },
   "outputs": [],
   "source": [
    "pet_har = pyet.hargreaves(TEMP_avg['TEMP_avg'], TEMP_max['TMAX'], TEMP_min['TMIN'], LAT, method=1)"
   ]
  },
  {
   "cell_type": "code",
   "execution_count": 18,
   "id": "a4811fd4-f371-44c7-b3a3-49365fe7a8ac",
   "metadata": {
    "tags": []
   },
   "outputs": [
    {
     "data": {
      "text/plain": [
       "DATE\n",
       "1938-04-13    5.029731\n",
       "1938-04-14    3.532502\n",
       "1938-04-15    3.639254\n",
       "1938-04-16    3.816278\n",
       "1938-04-17    3.653444\n",
       "                ...   \n",
       "2025-04-24    4.599003\n",
       "2025-04-25    3.970013\n",
       "2025-04-26    3.298989\n",
       "2025-04-27    3.392638\n",
       "2025-04-28         NaN\n",
       "Name: Hargreaves, Length: 31789, dtype: float64"
      ]
     },
     "execution_count": 18,
     "metadata": {},
     "output_type": "execute_result"
    }
   ],
   "source": [
    "pet_har"
   ]
  },
  {
   "cell_type": "code",
   "execution_count": 19,
   "id": "91d6368d-bbb9-4d31-a0cd-f6c5f3feb19f",
   "metadata": {
    "tags": []
   },
   "outputs": [],
   "source": [
    "pet_har.to_csv('Evap\\StLouis.csv')"
   ]
  },
  {
   "cell_type": "code",
   "execution_count": 20,
   "id": "8d336364-3228-4f06-9052-f9f8b9dea471",
   "metadata": {
    "tags": []
   },
   "outputs": [
    {
     "name": "stderr",
     "output_type": "stream",
     "text": [
      "C:\\Users\\irish\\AppData\\Local\\Temp\\ipykernel_12248\\2656095058.py:2: UserWarning: Parsing dates in %d-%m-%Y format when dayfirst=False (the default) was specified. Pass `dayfirst=True` or specify a format to silence this warning.\n",
      "  TEMP_max = pd.read_csv(\"Prec_temp/Miami_4008629.csv\", delimiter=',', usecols=['DATE', 'TMAX'],\n",
      "C:\\Users\\irish\\AppData\\Local\\Temp\\ipykernel_12248\\2656095058.py:5: UserWarning: Parsing dates in %d-%m-%Y format when dayfirst=False (the default) was specified. Pass `dayfirst=True` or specify a format to silence this warning.\n",
      "  TEMP_min = pd.read_csv(\"Prec_temp/Miami_4008629.csv\", delimiter=',', usecols=['DATE', 'TMIN'],\n"
     ]
    }
   ],
   "source": [
    "# Read and process the date\n",
    "TEMP_max = pd.read_csv(\"Prec_temp/Miami_4008629.csv\", delimiter=',', usecols=['DATE', 'TMAX'], \n",
    "                     parse_dates=['DATE'], index_col='DATE')\n",
    "\n",
    "TEMP_min = pd.read_csv(\"Prec_temp/Miami_4008629.csv\", delimiter=',', usecols=['DATE', 'TMIN'], \n",
    "                     parse_dates=['DATE'], index_col='DATE')\n",
    "\n",
    "TEMP_avg = (TEMP_max['TMAX'] + TEMP_min['TMIN']) / 2\n",
    "TEMP_avg = pd.DataFrame(TEMP_avg, columns=['TEMP_avg'])\n",
    "\n",
    "\n",
    "lat =  pd.read_csv(\"Prec_temp/Miami_4008629.csv\", delimiter=',', usecols=['LATITUDE'])\n",
    "LAT = lat.at[0, 'LATITUDE'] * np.pi / 180 # Latitude [rad]"
   ]
  },
  {
   "cell_type": "code",
   "execution_count": 21,
   "id": "68ef2da4-fe9b-429c-ba37-5326c7438283",
   "metadata": {
    "tags": []
   },
   "outputs": [],
   "source": [
    "pet_har = pyet.hargreaves(TEMP_avg['TEMP_avg'], TEMP_max['TMAX'], TEMP_min['TMIN'], LAT, method=1)"
   ]
  },
  {
   "cell_type": "code",
   "execution_count": 22,
   "id": "93d476ec-e451-4e18-a714-a32b5c45f417",
   "metadata": {
    "tags": []
   },
   "outputs": [
    {
     "data": {
      "text/plain": [
       "DATE\n",
       "1948-01-13    2.695912\n",
       "1948-01-14    2.415486\n",
       "1948-01-15    1.490444\n",
       "1948-01-16    2.614079\n",
       "1948-01-17    2.533213\n",
       "                ...   \n",
       "2025-04-24    4.804937\n",
       "2025-04-25    4.748651\n",
       "2025-04-26    4.816565\n",
       "2025-04-27    4.513828\n",
       "2025-04-28         NaN\n",
       "Name: Hargreaves, Length: 28231, dtype: float64"
      ]
     },
     "execution_count": 22,
     "metadata": {},
     "output_type": "execute_result"
    }
   ],
   "source": [
    "pet_har"
   ]
  },
  {
   "cell_type": "code",
   "execution_count": 23,
   "id": "68b6934a-1cde-4a42-94c5-38e3cf74bde8",
   "metadata": {
    "tags": []
   },
   "outputs": [],
   "source": [
    "pet_har.to_csv('Evap\\Miami.csv')"
   ]
  },
  {
   "cell_type": "code",
   "execution_count": 24,
   "id": "6a2c302d-6f6e-40fc-8d6a-1368b21e999d",
   "metadata": {
    "tags": []
   },
   "outputs": [
    {
     "name": "stderr",
     "output_type": "stream",
     "text": [
      "C:\\Users\\irish\\AppData\\Local\\Temp\\ipykernel_12248\\2459038341.py:2: UserWarning: Parsing dates in %d-%m-%Y format when dayfirst=False (the default) was specified. Pass `dayfirst=True` or specify a format to silence this warning.\n",
      "  TEMP_max = pd.read_csv(\"Prec_temp/Atlanta_4008630.csv\", delimiter=',', usecols=['DATE', 'TMAX'],\n",
      "C:\\Users\\irish\\AppData\\Local\\Temp\\ipykernel_12248\\2459038341.py:5: UserWarning: Parsing dates in %d-%m-%Y format when dayfirst=False (the default) was specified. Pass `dayfirst=True` or specify a format to silence this warning.\n",
      "  TEMP_min = pd.read_csv(\"Prec_temp/Atlanta_4008630.csv\", delimiter=',', usecols=['DATE', 'TMIN'],\n"
     ]
    }
   ],
   "source": [
    "# Read and process the date\n",
    "TEMP_max = pd.read_csv(\"Prec_temp/Atlanta_4008630.csv\", delimiter=',', usecols=['DATE', 'TMAX'], \n",
    "                     parse_dates=['DATE'], index_col='DATE')\n",
    "\n",
    "TEMP_min = pd.read_csv(\"Prec_temp/Atlanta_4008630.csv\", delimiter=',', usecols=['DATE', 'TMIN'], \n",
    "                     parse_dates=['DATE'], index_col='DATE')\n",
    "\n",
    "TEMP_avg = (TEMP_max['TMAX'] + TEMP_min['TMIN']) / 2\n",
    "TEMP_avg = pd.DataFrame(TEMP_avg, columns=['TEMP_avg'])\n",
    "\n",
    "\n",
    "lat =  pd.read_csv(\"Prec_temp/Atlanta_4008630.csv\", delimiter=',', usecols=['LATITUDE'])\n",
    "LAT = lat.at[0, 'LATITUDE'] * np.pi / 180 # Latitude [rad]"
   ]
  },
  {
   "cell_type": "code",
   "execution_count": 25,
   "id": "bc320090-5926-4011-80b9-518ba22e9ae9",
   "metadata": {
    "tags": []
   },
   "outputs": [],
   "source": [
    "pet_har = pyet.hargreaves(TEMP_avg['TEMP_avg'], TEMP_max['TMAX'], TEMP_min['TMIN'], LAT, method=1)"
   ]
  },
  {
   "cell_type": "code",
   "execution_count": 26,
   "id": "bdf2f4cb-f7c2-47b8-8ef3-3f4edcaf839a",
   "metadata": {
    "tags": []
   },
   "outputs": [
    {
     "data": {
      "text/plain": [
       "DATE\n",
       "1930-01-13    1.561208\n",
       "1930-01-14    1.704979\n",
       "1930-01-15    1.432099\n",
       "1930-01-16    0.891832\n",
       "1930-01-17    0.852287\n",
       "                ...   \n",
       "2025-04-24    3.983937\n",
       "2025-04-25    4.175295\n",
       "2025-04-26    4.074361\n",
       "2025-04-27    4.284792\n",
       "2025-04-28         NaN\n",
       "Name: Hargreaves, Length: 34804, dtype: float64"
      ]
     },
     "execution_count": 26,
     "metadata": {},
     "output_type": "execute_result"
    }
   ],
   "source": [
    "pet_har"
   ]
  },
  {
   "cell_type": "code",
   "execution_count": 27,
   "id": "cc6bfeb2-ef80-44bc-bfb9-6993d467df82",
   "metadata": {
    "tags": []
   },
   "outputs": [],
   "source": [
    "pet_har.to_csv('Evap\\Atlanta.csv')"
   ]
  },
  {
   "cell_type": "code",
   "execution_count": 28,
   "id": "af3ad12d-1b76-493e-8d2f-ec79df690e09",
   "metadata": {
    "tags": []
   },
   "outputs": [
    {
     "name": "stderr",
     "output_type": "stream",
     "text": [
      "C:\\Users\\irish\\AppData\\Local\\Temp\\ipykernel_12248\\2813350371.py:2: UserWarning: Parsing dates in %d-%m-%Y format when dayfirst=False (the default) was specified. Pass `dayfirst=True` or specify a format to silence this warning.\n",
      "  TEMP_max = pd.read_csv(\"Prec_temp/Sacremento_4008640.csv\", delimiter=',', usecols=['DATE', 'TMAX'],\n",
      "C:\\Users\\irish\\AppData\\Local\\Temp\\ipykernel_12248\\2813350371.py:5: UserWarning: Parsing dates in %d-%m-%Y format when dayfirst=False (the default) was specified. Pass `dayfirst=True` or specify a format to silence this warning.\n",
      "  TEMP_min = pd.read_csv(\"Prec_temp/Sacremento_4008640.csv\", delimiter=',', usecols=['DATE', 'TMIN'],\n"
     ]
    }
   ],
   "source": [
    "# Read and process the date\n",
    "TEMP_max = pd.read_csv(\"Prec_temp/Sacremento_4008640.csv\", delimiter=',', usecols=['DATE', 'TMAX'], \n",
    "                     parse_dates=['DATE'], index_col='DATE')\n",
    "\n",
    "TEMP_min = pd.read_csv(\"Prec_temp/Sacremento_4008640.csv\", delimiter=',', usecols=['DATE', 'TMIN'], \n",
    "                     parse_dates=['DATE'], index_col='DATE')\n",
    "\n",
    "TEMP_avg = (TEMP_max['TMAX'] + TEMP_min['TMIN']) / 2\n",
    "TEMP_avg = pd.DataFrame(TEMP_avg, columns=['TEMP_avg'])\n",
    "\n",
    "\n",
    "lat =  pd.read_csv(\"Prec_temp/Sacremento_4008640.csv\", delimiter=',', usecols=['LATITUDE'])\n",
    "LAT = lat.at[0, 'LATITUDE'] * np.pi / 180 # Latitude [rad]"
   ]
  },
  {
   "cell_type": "code",
   "execution_count": 29,
   "id": "bbfa5689-6ab0-47f3-ba3e-35001448eb08",
   "metadata": {
    "tags": []
   },
   "outputs": [],
   "source": [
    "pet_har = pyet.hargreaves(TEMP_avg['TEMP_avg'], TEMP_max['TMAX'], TEMP_min['TMIN'], LAT, method=1)"
   ]
  },
  {
   "cell_type": "code",
   "execution_count": 30,
   "id": "d065a393-fa1b-457b-9996-5d0b67e22609",
   "metadata": {
    "tags": []
   },
   "outputs": [
    {
     "data": {
      "text/plain": [
       "DATE\n",
       "1900-09-16    3.200859\n",
       "1900-09-17    3.871976\n",
       "1900-09-18    5.459588\n",
       "1900-09-19    3.877517\n",
       "1900-09-20    4.139695\n",
       "                ...   \n",
       "2025-04-23    3.611161\n",
       "2025-04-24    3.220792\n",
       "2025-04-25    3.105627\n",
       "2025-04-26    3.133866\n",
       "2025-04-27         NaN\n",
       "Name: Hargreaves, Length: 45439, dtype: float64"
      ]
     },
     "execution_count": 30,
     "metadata": {},
     "output_type": "execute_result"
    }
   ],
   "source": [
    "pet_har"
   ]
  },
  {
   "cell_type": "code",
   "execution_count": 31,
   "id": "d5daca33-e9ed-4549-812e-e64e6b80e32e",
   "metadata": {
    "tags": []
   },
   "outputs": [],
   "source": [
    "pet_har.to_csv('Evap\\Sacremento.csv')"
   ]
  },
  {
   "cell_type": "code",
   "execution_count": null,
   "id": "7f195d6a-5c94-4728-a079-6a08bc60003f",
   "metadata": {},
   "outputs": [],
   "source": []
  }
 ],
 "metadata": {
  "kernelspec": {
   "display_name": "Python 3 (ipykernel)",
   "language": "python",
   "name": "python3"
  },
  "language_info": {
   "codemirror_mode": {
    "name": "ipython",
    "version": 3
   },
   "file_extension": ".py",
   "mimetype": "text/x-python",
   "name": "python",
   "nbconvert_exporter": "python",
   "pygments_lexer": "ipython3",
   "version": "3.11.4"
  }
 },
 "nbformat": 4,
 "nbformat_minor": 5
}
